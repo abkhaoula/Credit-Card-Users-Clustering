{
 "cells": [
  {
   "cell_type": "markdown",
   "metadata": {},
   "source": [
    "# I - Data description"
   ]
  },
  {
   "cell_type": "code",
   "execution_count": 10,
   "metadata": {},
   "outputs": [],
   "source": [
    "import pandas as pd\n",
    "import numpy as np\n",
    "import matplotlib.pyplot as plt\n",
    "from sklearn.preprocessing import StandardScaler, normalize\n",
    "from sklearn.cluster import KMeans\n",
    "import seaborn as sns\n",
    "from sklearn.metrics import silhouette_score\n",
    "from sklearn.metrics.pairwise import cosine_similarity\n",
    "from sklearn.decomposition import PCA"
   ]
  },
  {
   "cell_type": "code",
   "execution_count": 11,
   "metadata": {},
   "outputs": [
    {
     "data": {
      "text/html": [
       "<div>\n",
       "<style scoped>\n",
       "    .dataframe tbody tr th:only-of-type {\n",
       "        vertical-align: middle;\n",
       "    }\n",
       "\n",
       "    .dataframe tbody tr th {\n",
       "        vertical-align: top;\n",
       "    }\n",
       "\n",
       "    .dataframe thead th {\n",
       "        text-align: right;\n",
       "    }\n",
       "</style>\n",
       "<table border=\"1\" class=\"dataframe\">\n",
       "  <thead>\n",
       "    <tr style=\"text-align: right;\">\n",
       "      <th></th>\n",
       "      <th>CUST_ID</th>\n",
       "      <th>AVG_BALANCE</th>\n",
       "      <th>TENURE</th>\n",
       "      <th>NUM_TRANS</th>\n",
       "      <th>ACCESSORIES</th>\n",
       "      <th>APPLIANCES</th>\n",
       "      <th>CULTURE</th>\n",
       "      <th>GAS</th>\n",
       "      <th>BOOKS</th>\n",
       "      <th>APPAREL</th>\n",
       "      <th>...</th>\n",
       "      <th>FOOD</th>\n",
       "      <th>HEALTH</th>\n",
       "      <th>HOME_GARDEN</th>\n",
       "      <th>TELCOS</th>\n",
       "      <th>TRAVEL</th>\n",
       "      <th>PURCHASES_AMOUNT</th>\n",
       "      <th>Loyalty</th>\n",
       "      <th>Unnamed: 20</th>\n",
       "      <th>Unnamed: 21</th>\n",
       "      <th>Unnamed: 22</th>\n",
       "    </tr>\n",
       "  </thead>\n",
       "  <tbody>\n",
       "    <tr>\n",
       "      <td>0</td>\n",
       "      <td>C10001</td>\n",
       "      <td>3044.993177</td>\n",
       "      <td>12</td>\n",
       "      <td>11.006688</td>\n",
       "      <td>0.0</td>\n",
       "      <td>2168.506639</td>\n",
       "      <td>0.0</td>\n",
       "      <td>0.000000</td>\n",
       "      <td>0.0</td>\n",
       "      <td>0.000000</td>\n",
       "      <td>...</td>\n",
       "      <td>0.00000</td>\n",
       "      <td>0.000000</td>\n",
       "      <td>0.000000</td>\n",
       "      <td>0.0</td>\n",
       "      <td>0.0</td>\n",
       "      <td>2168.506639</td>\n",
       "      <td>1</td>\n",
       "      <td>NaN</td>\n",
       "      <td>NaN</td>\n",
       "      <td>NaN</td>\n",
       "    </tr>\n",
       "    <tr>\n",
       "      <td>1</td>\n",
       "      <td>C10002</td>\n",
       "      <td>81.927748</td>\n",
       "      <td>12</td>\n",
       "      <td>0.985254</td>\n",
       "      <td>0.0</td>\n",
       "      <td>1779.354561</td>\n",
       "      <td>0.0</td>\n",
       "      <td>0.000000</td>\n",
       "      <td>0.0</td>\n",
       "      <td>0.000000</td>\n",
       "      <td>...</td>\n",
       "      <td>0.00000</td>\n",
       "      <td>0.000000</td>\n",
       "      <td>0.000000</td>\n",
       "      <td>0.0</td>\n",
       "      <td>0.0</td>\n",
       "      <td>1779.354561</td>\n",
       "      <td>0</td>\n",
       "      <td>NaN</td>\n",
       "      <td>NaN</td>\n",
       "      <td>NaN</td>\n",
       "    </tr>\n",
       "    <tr>\n",
       "      <td>2</td>\n",
       "      <td>C10003</td>\n",
       "      <td>1345.213562</td>\n",
       "      <td>12</td>\n",
       "      <td>2.830550</td>\n",
       "      <td>0.0</td>\n",
       "      <td>0.000000</td>\n",
       "      <td>0.0</td>\n",
       "      <td>163.266045</td>\n",
       "      <td>0.0</td>\n",
       "      <td>1590.748309</td>\n",
       "      <td>...</td>\n",
       "      <td>0.00000</td>\n",
       "      <td>0.000000</td>\n",
       "      <td>0.000000</td>\n",
       "      <td>0.0</td>\n",
       "      <td>0.0</td>\n",
       "      <td>1754.014354</td>\n",
       "      <td>0</td>\n",
       "      <td>NaN</td>\n",
       "      <td>NaN</td>\n",
       "      <td>NaN</td>\n",
       "    </tr>\n",
       "    <tr>\n",
       "      <td>3</td>\n",
       "      <td>C10004</td>\n",
       "      <td>3193.925166</td>\n",
       "      <td>12</td>\n",
       "      <td>0.000000</td>\n",
       "      <td>0.0</td>\n",
       "      <td>0.000000</td>\n",
       "      <td>0.0</td>\n",
       "      <td>0.000000</td>\n",
       "      <td>0.0</td>\n",
       "      <td>0.000000</td>\n",
       "      <td>...</td>\n",
       "      <td>0.00000</td>\n",
       "      <td>0.000000</td>\n",
       "      <td>0.000000</td>\n",
       "      <td>0.0</td>\n",
       "      <td>0.0</td>\n",
       "      <td>0.000000</td>\n",
       "      <td>0</td>\n",
       "      <td>NaN</td>\n",
       "      <td>NaN</td>\n",
       "      <td>NaN</td>\n",
       "    </tr>\n",
       "    <tr>\n",
       "      <td>4</td>\n",
       "      <td>C10005</td>\n",
       "      <td>284.286718</td>\n",
       "      <td>7</td>\n",
       "      <td>11.757291</td>\n",
       "      <td>0.0</td>\n",
       "      <td>189.991137</td>\n",
       "      <td>0.0</td>\n",
       "      <td>628.363089</td>\n",
       "      <td>0.0</td>\n",
       "      <td>0.000000</td>\n",
       "      <td>...</td>\n",
       "      <td>29.83154</td>\n",
       "      <td>58.269684</td>\n",
       "      <td>61.882977</td>\n",
       "      <td>0.0</td>\n",
       "      <td>0.0</td>\n",
       "      <td>968.338427</td>\n",
       "      <td>0</td>\n",
       "      <td>NaN</td>\n",
       "      <td>NaN</td>\n",
       "      <td>NaN</td>\n",
       "    </tr>\n",
       "  </tbody>\n",
       "</table>\n",
       "<p>5 rows × 23 columns</p>\n",
       "</div>"
      ],
      "text/plain": [
       "  CUST_ID  AVG_BALANCE  TENURE  NUM_TRANS  ACCESSORIES   APPLIANCES  CULTURE  \\\n",
       "0  C10001  3044.993177      12  11.006688          0.0  2168.506639      0.0   \n",
       "1  C10002    81.927748      12   0.985254          0.0  1779.354561      0.0   \n",
       "2  C10003  1345.213562      12   2.830550          0.0     0.000000      0.0   \n",
       "3  C10004  3193.925166      12   0.000000          0.0     0.000000      0.0   \n",
       "4  C10005   284.286718       7  11.757291          0.0   189.991137      0.0   \n",
       "\n",
       "          GAS  BOOKS      APPAREL  ...      FOOD     HEALTH  HOME_GARDEN  \\\n",
       "0    0.000000    0.0     0.000000  ...   0.00000   0.000000     0.000000   \n",
       "1    0.000000    0.0     0.000000  ...   0.00000   0.000000     0.000000   \n",
       "2  163.266045    0.0  1590.748309  ...   0.00000   0.000000     0.000000   \n",
       "3    0.000000    0.0     0.000000  ...   0.00000   0.000000     0.000000   \n",
       "4  628.363089    0.0     0.000000  ...  29.83154  58.269684    61.882977   \n",
       "\n",
       "   TELCOS  TRAVEL  PURCHASES_AMOUNT  Loyalty  Unnamed: 20  Unnamed: 21  \\\n",
       "0     0.0     0.0       2168.506639        1          NaN          NaN   \n",
       "1     0.0     0.0       1779.354561        0          NaN          NaN   \n",
       "2     0.0     0.0       1754.014354        0          NaN          NaN   \n",
       "3     0.0     0.0          0.000000        0          NaN          NaN   \n",
       "4     0.0     0.0        968.338427        0          NaN          NaN   \n",
       "\n",
       "   Unnamed: 22  \n",
       "0          NaN  \n",
       "1          NaN  \n",
       "2          NaN  \n",
       "3          NaN  \n",
       "4          NaN  \n",
       "\n",
       "[5 rows x 23 columns]"
      ]
     },
     "execution_count": 11,
     "metadata": {},
     "output_type": "execute_result"
    }
   ],
   "source": [
    "ccu_data = pd.read_csv(\"CCUse.csv\")\n",
    "ccu_data.head()"
   ]
  },
  {
   "cell_type": "code",
   "execution_count": 12,
   "metadata": {},
   "outputs": [
    {
     "name": "stdout",
     "output_type": "stream",
     "text": [
      "<class 'pandas.core.frame.DataFrame'>\n",
      "RangeIndex: 18971 entries, 0 to 18970\n",
      "Data columns (total 23 columns):\n",
      "CUST_ID             18971 non-null object\n",
      "AVG_BALANCE         18971 non-null float64\n",
      "TENURE              18971 non-null int64\n",
      "NUM_TRANS           18971 non-null float64\n",
      "ACCESSORIES         18971 non-null float64\n",
      "APPLIANCES          18971 non-null float64\n",
      "CULTURE             18971 non-null float64\n",
      "GAS                 18971 non-null float64\n",
      "BOOKS               18971 non-null float64\n",
      "APPAREL             18971 non-null float64\n",
      "FITNESS             18971 non-null float64\n",
      "EDUCATION           18971 non-null float64\n",
      "ENTERTAINMENT       18971 non-null float64\n",
      "FOOD                18971 non-null float64\n",
      "HEALTH              18971 non-null float64\n",
      "HOME_GARDEN         18971 non-null float64\n",
      "TELCOS              18971 non-null float64\n",
      "TRAVEL              18971 non-null float64\n",
      "PURCHASES_AMOUNT    18971 non-null float64\n",
      "Loyalty             18971 non-null int64\n",
      "Unnamed: 20         0 non-null float64\n",
      "Unnamed: 21         0 non-null float64\n",
      "Unnamed: 22         0 non-null float64\n",
      "dtypes: float64(20), int64(2), object(1)\n",
      "memory usage: 3.3+ MB\n"
     ]
    }
   ],
   "source": [
    "ccu_data.info()"
   ]
  },
  {
   "cell_type": "code",
   "execution_count": 13,
   "metadata": {
    "scrolled": true
   },
   "outputs": [
    {
     "data": {
      "text/plain": [
       "CUST_ID                 0\n",
       "AVG_BALANCE             0\n",
       "TENURE                  0\n",
       "NUM_TRANS               0\n",
       "ACCESSORIES             0\n",
       "APPLIANCES              0\n",
       "CULTURE                 0\n",
       "GAS                     0\n",
       "BOOKS                   0\n",
       "APPAREL                 0\n",
       "FITNESS                 0\n",
       "EDUCATION               0\n",
       "ENTERTAINMENT           0\n",
       "FOOD                    0\n",
       "HEALTH                  0\n",
       "HOME_GARDEN             0\n",
       "TELCOS                  0\n",
       "TRAVEL                  0\n",
       "PURCHASES_AMOUNT        0\n",
       "Loyalty                 0\n",
       "Unnamed: 20         18971\n",
       "Unnamed: 21         18971\n",
       "Unnamed: 22         18971\n",
       "dtype: int64"
      ]
     },
     "execution_count": 13,
     "metadata": {},
     "output_type": "execute_result"
    }
   ],
   "source": [
    "ccu_data.isnull().sum()"
   ]
  },
  {
   "cell_type": "code",
   "execution_count": 14,
   "metadata": {},
   "outputs": [
    {
     "data": {
      "text/plain": [
       "(18971, 19)"
      ]
     },
     "execution_count": 14,
     "metadata": {},
     "output_type": "execute_result"
    }
   ],
   "source": [
    "# Dropping the Missing Values\n",
    "ccu_data.drop(['CUST_ID', 'Unnamed: 20', 'Unnamed: 21', 'Unnamed: 22'], axis=1, inplace=True)\n",
    "ccu_data.shape"
   ]
  },
  {
   "cell_type": "code",
   "execution_count": 15,
   "metadata": {},
   "outputs": [],
   "source": [
    "from sklearn.metrics import silhouette_score\n",
    "from sklearn.cluster import KMeans\n",
    "X= np.asarray(ccu_data)\n",
    "n_clusters=30\n",
    "cost=[]\n",
    "sil=[]\n",
    "for i in range(2,n_clusters):\n",
    "    kmean= KMeans(i)\n",
    "    kmean.fit(X)\n",
    "    # sse\n",
    "    cost.append(kmean.inertia_)\n",
    "    # silouhaite\n",
    "    sil.append(silhouette_score(X, kmean.labels_, metric='euclidean')) "
   ]
  },
  {
   "cell_type": "code",
   "execution_count": 18,
   "metadata": {},
   "outputs": [
    {
     "data": {
      "image/png": "[encoded data removed]",
      "text/plain": [
       "<Figure size 432x288 with 1 Axes>"
      ]
     },
     "metadata": {
      "needs_background": "light"
     },
     "output_type": "display_data"
    }
   ],
   "source": [
    "import matplotlib.pyplot as plt\n",
    "plt.plot(np.arange(2,30), cost,'bx-', color = '#C93838');"
   ]
  },
  {
   "cell_type": "code",
   "execution_count": 17,
   "metadata": {},
   "outputs": [
    {
     "data": {
      "image/png": "[encoded data removed]",
      "text/plain": [
       "<Figure size 432x288 with 1 Axes>"
      ]
     },
     "metadata": {
      "needs_background": "light"
     },
     "output_type": "display_data"
    }
   ],
   "source": [
    "plt.plot(np.arange(2,30), sil, 'bx-',color = '#C93838',);"
   ]
  },
  {
   "cell_type": "code",
   "execution_count": 6,
   "metadata": {
    "scrolled": false
   },
   "outputs": [
    {
     "data": {
      "text/html": [
       "<div>\n",
       "<style scoped>\n",
       "    .dataframe tbody tr th:only-of-type {\n",
       "        vertical-align: middle;\n",
       "    }\n",
       "\n",
       "    .dataframe tbody tr th {\n",
       "        vertical-align: top;\n",
       "    }\n",
       "\n",
       "    .dataframe thead th {\n",
       "        text-align: right;\n",
       "    }\n",
       "</style>\n",
       "<table border=\"1\" class=\"dataframe\">\n",
       "  <thead>\n",
       "    <tr style=\"text-align: right;\">\n",
       "      <th></th>\n",
       "      <th>AVG_BALANCE</th>\n",
       "      <th>TENURE</th>\n",
       "      <th>NUM_TRANS</th>\n",
       "      <th>ACCESSORIES</th>\n",
       "      <th>APPLIANCES</th>\n",
       "      <th>CULTURE</th>\n",
       "      <th>GAS</th>\n",
       "      <th>BOOKS</th>\n",
       "      <th>APPAREL</th>\n",
       "      <th>FITNESS</th>\n",
       "      <th>EDUCATION</th>\n",
       "      <th>ENTERTAINMENT</th>\n",
       "      <th>FOOD</th>\n",
       "      <th>HEALTH</th>\n",
       "      <th>HOME_GARDEN</th>\n",
       "      <th>TELCOS</th>\n",
       "      <th>TRAVEL</th>\n",
       "      <th>PURCHASES_AMOUNT</th>\n",
       "      <th>Loyalty</th>\n",
       "    </tr>\n",
       "  </thead>\n",
       "  <tbody>\n",
       "    <tr>\n",
       "      <td>count</td>\n",
       "      <td>18971.000000</td>\n",
       "      <td>18971.000000</td>\n",
       "      <td>18971.000000</td>\n",
       "      <td>18971.000000</td>\n",
       "      <td>18971.000000</td>\n",
       "      <td>18971.000000</td>\n",
       "      <td>18971.000000</td>\n",
       "      <td>18971.000000</td>\n",
       "      <td>18971.000000</td>\n",
       "      <td>18971.000000</td>\n",
       "      <td>18971.000000</td>\n",
       "      <td>18971.000000</td>\n",
       "      <td>18971.000000</td>\n",
       "      <td>18971.000000</td>\n",
       "      <td>18971.000000</td>\n",
       "      <td>18971.000000</td>\n",
       "      <td>18971.000000</td>\n",
       "      <td>18971.000000</td>\n",
       "      <td>18971.000000</td>\n",
       "    </tr>\n",
       "    <tr>\n",
       "      <td>mean</td>\n",
       "      <td>2249.452492</td>\n",
       "      <td>11.380844</td>\n",
       "      <td>18.958663</td>\n",
       "      <td>176.550591</td>\n",
       "      <td>219.658791</td>\n",
       "      <td>5.752077</td>\n",
       "      <td>105.000328</td>\n",
       "      <td>31.895330</td>\n",
       "      <td>477.696821</td>\n",
       "      <td>2.832551</td>\n",
       "      <td>8.918849</td>\n",
       "      <td>117.170542</td>\n",
       "      <td>185.198246</td>\n",
       "      <td>101.402031</td>\n",
       "      <td>117.694776</td>\n",
       "      <td>158.549602</td>\n",
       "      <td>181.244353</td>\n",
       "      <td>1889.564885</td>\n",
       "      <td>0.271731</td>\n",
       "    </tr>\n",
       "    <tr>\n",
       "      <td>std</td>\n",
       "      <td>2427.725837</td>\n",
       "      <td>1.475461</td>\n",
       "      <td>35.547900</td>\n",
       "      <td>776.653112</td>\n",
       "      <td>1006.845712</td>\n",
       "      <td>103.433531</td>\n",
       "      <td>570.157654</td>\n",
       "      <td>657.165345</td>\n",
       "      <td>1377.344385</td>\n",
       "      <td>70.806753</td>\n",
       "      <td>322.943875</td>\n",
       "      <td>1653.570132</td>\n",
       "      <td>829.939338</td>\n",
       "      <td>556.363883</td>\n",
       "      <td>555.764488</td>\n",
       "      <td>667.880298</td>\n",
       "      <td>988.000963</td>\n",
       "      <td>3742.657009</td>\n",
       "      <td>0.444863</td>\n",
       "    </tr>\n",
       "    <tr>\n",
       "      <td>min</td>\n",
       "      <td>0.000000</td>\n",
       "      <td>6.000000</td>\n",
       "      <td>-0.978886</td>\n",
       "      <td>0.000000</td>\n",
       "      <td>0.000000</td>\n",
       "      <td>0.000000</td>\n",
       "      <td>0.000000</td>\n",
       "      <td>0.000000</td>\n",
       "      <td>0.000000</td>\n",
       "      <td>0.000000</td>\n",
       "      <td>0.000000</td>\n",
       "      <td>0.000000</td>\n",
       "      <td>0.000000</td>\n",
       "      <td>0.000000</td>\n",
       "      <td>0.000000</td>\n",
       "      <td>0.000000</td>\n",
       "      <td>0.000000</td>\n",
       "      <td>0.000000</td>\n",
       "      <td>0.000000</td>\n",
       "    </tr>\n",
       "    <tr>\n",
       "      <td>25%</td>\n",
       "      <td>512.468509</td>\n",
       "      <td>12.000000</td>\n",
       "      <td>0.000000</td>\n",
       "      <td>0.000000</td>\n",
       "      <td>0.000000</td>\n",
       "      <td>0.000000</td>\n",
       "      <td>0.000000</td>\n",
       "      <td>0.000000</td>\n",
       "      <td>0.000000</td>\n",
       "      <td>0.000000</td>\n",
       "      <td>0.000000</td>\n",
       "      <td>0.000000</td>\n",
       "      <td>0.000000</td>\n",
       "      <td>0.000000</td>\n",
       "      <td>0.000000</td>\n",
       "      <td>0.000000</td>\n",
       "      <td>0.000000</td>\n",
       "      <td>0.000000</td>\n",
       "      <td>0.000000</td>\n",
       "    </tr>\n",
       "    <tr>\n",
       "      <td>50%</td>\n",
       "      <td>1375.580590</td>\n",
       "      <td>12.000000</td>\n",
       "      <td>7.273754</td>\n",
       "      <td>0.000000</td>\n",
       "      <td>0.000000</td>\n",
       "      <td>0.000000</td>\n",
       "      <td>0.000000</td>\n",
       "      <td>0.000000</td>\n",
       "      <td>0.000000</td>\n",
       "      <td>0.000000</td>\n",
       "      <td>0.000000</td>\n",
       "      <td>0.000000</td>\n",
       "      <td>0.000000</td>\n",
       "      <td>0.000000</td>\n",
       "      <td>0.000000</td>\n",
       "      <td>0.000000</td>\n",
       "      <td>0.000000</td>\n",
       "      <td>997.399757</td>\n",
       "      <td>0.000000</td>\n",
       "    </tr>\n",
       "    <tr>\n",
       "      <td>75%</td>\n",
       "      <td>3135.047806</td>\n",
       "      <td>12.000000</td>\n",
       "      <td>24.951448</td>\n",
       "      <td>78.637835</td>\n",
       "      <td>62.567827</td>\n",
       "      <td>0.000000</td>\n",
       "      <td>0.000000</td>\n",
       "      <td>0.000000</td>\n",
       "      <td>488.024294</td>\n",
       "      <td>0.000000</td>\n",
       "      <td>0.000000</td>\n",
       "      <td>0.000000</td>\n",
       "      <td>0.000000</td>\n",
       "      <td>0.000000</td>\n",
       "      <td>0.000000</td>\n",
       "      <td>0.000000</td>\n",
       "      <td>0.000000</td>\n",
       "      <td>2333.731238</td>\n",
       "      <td>1.000000</td>\n",
       "    </tr>\n",
       "    <tr>\n",
       "      <td>max</td>\n",
       "      <td>27615.333100</td>\n",
       "      <td>12.000000</td>\n",
       "      <td>1301.278768</td>\n",
       "      <td>34398.478270</td>\n",
       "      <td>49262.115400</td>\n",
       "      <td>8767.027535</td>\n",
       "      <td>19416.925120</td>\n",
       "      <td>79068.886770</td>\n",
       "      <td>70464.649950</td>\n",
       "      <td>6557.900496</td>\n",
       "      <td>38718.098730</td>\n",
       "      <td>149716.892800</td>\n",
       "      <td>48731.644070</td>\n",
       "      <td>20979.621510</td>\n",
       "      <td>14901.723570</td>\n",
       "      <td>27035.769190</td>\n",
       "      <td>59238.414520</td>\n",
       "      <td>166608.319100</td>\n",
       "      <td>1.000000</td>\n",
       "    </tr>\n",
       "  </tbody>\n",
       "</table>\n",
       "</div>"
      ],
      "text/plain": [
       "        AVG_BALANCE        TENURE     NUM_TRANS   ACCESSORIES    APPLIANCES  \\\n",
       "count  18971.000000  18971.000000  18971.000000  18971.000000  18971.000000   \n",
       "mean    2249.452492     11.380844     18.958663    176.550591    219.658791   \n",
       "std     2427.725837      1.475461     35.547900    776.653112   1006.845712   \n",
       "min        0.000000      6.000000     -0.978886      0.000000      0.000000   \n",
       "25%      512.468509     12.000000      0.000000      0.000000      0.000000   \n",
       "50%     1375.580590     12.000000      7.273754      0.000000      0.000000   \n",
       "75%     3135.047806     12.000000     24.951448     78.637835     62.567827   \n",
       "max    27615.333100     12.000000   1301.278768  34398.478270  49262.115400   \n",
       "\n",
       "            CULTURE           GAS         BOOKS       APPAREL       FITNESS  \\\n",
       "count  18971.000000  18971.000000  18971.000000  18971.000000  18971.000000   \n",
       "mean       5.752077    105.000328     31.895330    477.696821      2.832551   \n",
       "std      103.433531    570.157654    657.165345   1377.344385     70.806753   \n",
       "min        0.000000      0.000000      0.000000      0.000000      0.000000   \n",
       "25%        0.000000      0.000000      0.000000      0.000000      0.000000   \n",
       "50%        0.000000      0.000000      0.000000      0.000000      0.000000   \n",
       "75%        0.000000      0.000000      0.000000    488.024294      0.000000   \n",
       "max     8767.027535  19416.925120  79068.886770  70464.649950   6557.900496   \n",
       "\n",
       "          EDUCATION  ENTERTAINMENT          FOOD        HEALTH   HOME_GARDEN  \\\n",
       "count  18971.000000   18971.000000  18971.000000  18971.000000  18971.000000   \n",
       "mean       8.918849     117.170542    185.198246    101.402031    117.694776   \n",
       "std      322.943875    1653.570132    829.939338    556.363883    555.764488   \n",
       "min        0.000000       0.000000      0.000000      0.000000      0.000000   \n",
       "25%        0.000000       0.000000      0.000000      0.000000      0.000000   \n",
       "50%        0.000000       0.000000      0.000000      0.000000      0.000000   \n",
       "75%        0.000000       0.000000      0.000000      0.000000      0.000000   \n",
       "max    38718.098730  149716.892800  48731.644070  20979.621510  14901.723570   \n",
       "\n",
       "             TELCOS        TRAVEL  PURCHASES_AMOUNT       Loyalty  \n",
       "count  18971.000000  18971.000000      18971.000000  18971.000000  \n",
       "mean     158.549602    181.244353       1889.564885      0.271731  \n",
       "std      667.880298    988.000963       3742.657009      0.444863  \n",
       "min        0.000000      0.000000          0.000000      0.000000  \n",
       "25%        0.000000      0.000000          0.000000      0.000000  \n",
       "50%        0.000000      0.000000        997.399757      0.000000  \n",
       "75%        0.000000      0.000000       2333.731238      1.000000  \n",
       "max    27035.769190  59238.414520     166608.319100      1.000000  "
      ]
     },
     "execution_count": 6,
     "metadata": {},
     "output_type": "execute_result"
    }
   ],
   "source": [
    "ccu_data.describe()"
   ]
  },
  {
   "cell_type": "code",
   "execution_count": 7,
   "metadata": {},
   "outputs": [
    {
     "data": {
      "image/png": "[encoded data removed]",
      "text/plain": [
       "<Figure size 432x288 with 2 Axes>"
      ]
     },
     "metadata": {
      "needs_background": "light"
     },
     "output_type": "display_data"
    }
   ],
   "source": [
    "import pandas as pd\n",
    "import numpy as np\n",
    "import seaborn as sns\n",
    "import matplotlib.pyplot as plt\n",
    "sns.heatmap(ccu_data.corr());"
   ]
  },
  {
   "cell_type": "code",
   "execution_count": 9,
   "metadata": {
    "scrolled": true
   },
   "outputs": [
    {
     "data": {
      "text/html": [
       "<div>\n",
       "<style scoped>\n",
       "    .dataframe tbody tr th:only-of-type {\n",
       "        vertical-align: middle;\n",
       "    }\n",
       "\n",
       "    .dataframe tbody tr th {\n",
       "        vertical-align: top;\n",
       "    }\n",
       "\n",
       "    .dataframe thead th {\n",
       "        text-align: right;\n",
       "    }\n",
       "</style>\n",
       "<table border=\"1\" class=\"dataframe\">\n",
       "  <thead>\n",
       "    <tr style=\"text-align: right;\">\n",
       "      <th></th>\n",
       "      <th>AVG_BALANCE</th>\n",
       "      <th>TENURE</th>\n",
       "      <th>NUM_TRANS</th>\n",
       "      <th>ACCESSORIES</th>\n",
       "      <th>APPLIANCES</th>\n",
       "      <th>CULTURE</th>\n",
       "      <th>GAS</th>\n",
       "      <th>BOOKS</th>\n",
       "      <th>APPAREL</th>\n",
       "      <th>FITNESS</th>\n",
       "      <th>EDUCATION</th>\n",
       "      <th>ENTERTAINMENT</th>\n",
       "      <th>FOOD</th>\n",
       "      <th>HEALTH</th>\n",
       "      <th>HOME_GARDEN</th>\n",
       "      <th>TELCOS</th>\n",
       "      <th>TRAVEL</th>\n",
       "      <th>PURCHASES_AMOUNT</th>\n",
       "      <th>Loyalty</th>\n",
       "    </tr>\n",
       "  </thead>\n",
       "  <tbody>\n",
       "    <tr>\n",
       "      <td>AVG_BALANCE</td>\n",
       "      <td>1.000000</td>\n",
       "      <td>0.097542</td>\n",
       "      <td>0.047497</td>\n",
       "      <td>0.103256</td>\n",
       "      <td>0.073383</td>\n",
       "      <td>0.014100</td>\n",
       "      <td>0.059228</td>\n",
       "      <td>0.028333</td>\n",
       "      <td>0.135245</td>\n",
       "      <td>0.000892</td>\n",
       "      <td>0.016226</td>\n",
       "      <td>0.073823</td>\n",
       "      <td>0.093045</td>\n",
       "      <td>0.036721</td>\n",
       "      <td>0.080064</td>\n",
       "      <td>0.066202</td>\n",
       "      <td>0.053291</td>\n",
       "      <td>0.203223</td>\n",
       "      <td>0.200118</td>\n",
       "    </tr>\n",
       "    <tr>\n",
       "      <td>TENURE</td>\n",
       "      <td>0.097542</td>\n",
       "      <td>1.000000</td>\n",
       "      <td>0.091020</td>\n",
       "      <td>0.014585</td>\n",
       "      <td>0.005022</td>\n",
       "      <td>0.003830</td>\n",
       "      <td>0.014461</td>\n",
       "      <td>0.008011</td>\n",
       "      <td>0.030532</td>\n",
       "      <td>-0.004759</td>\n",
       "      <td>0.006527</td>\n",
       "      <td>0.005422</td>\n",
       "      <td>0.011911</td>\n",
       "      <td>-0.010127</td>\n",
       "      <td>-0.004930</td>\n",
       "      <td>0.051415</td>\n",
       "      <td>0.035218</td>\n",
       "      <td>0.041074</td>\n",
       "      <td>0.228627</td>\n",
       "    </tr>\n",
       "    <tr>\n",
       "      <td>NUM_TRANS</td>\n",
       "      <td>0.047497</td>\n",
       "      <td>0.091020</td>\n",
       "      <td>1.000000</td>\n",
       "      <td>0.213623</td>\n",
       "      <td>0.047567</td>\n",
       "      <td>0.048938</td>\n",
       "      <td>0.084598</td>\n",
       "      <td>0.062649</td>\n",
       "      <td>0.322521</td>\n",
       "      <td>0.028713</td>\n",
       "      <td>0.112844</td>\n",
       "      <td>0.175912</td>\n",
       "      <td>0.188929</td>\n",
       "      <td>0.122570</td>\n",
       "      <td>0.109448</td>\n",
       "      <td>0.127815</td>\n",
       "      <td>0.182427</td>\n",
       "      <td>0.436394</td>\n",
       "      <td>0.327790</td>\n",
       "    </tr>\n",
       "    <tr>\n",
       "      <td>ACCESSORIES</td>\n",
       "      <td>0.103256</td>\n",
       "      <td>0.014585</td>\n",
       "      <td>0.213623</td>\n",
       "      <td>1.000000</td>\n",
       "      <td>0.017364</td>\n",
       "      <td>0.041686</td>\n",
       "      <td>0.049210</td>\n",
       "      <td>0.027089</td>\n",
       "      <td>0.330098</td>\n",
       "      <td>-0.002228</td>\n",
       "      <td>0.031287</td>\n",
       "      <td>0.017088</td>\n",
       "      <td>0.117410</td>\n",
       "      <td>0.096005</td>\n",
       "      <td>0.063548</td>\n",
       "      <td>0.022882</td>\n",
       "      <td>0.134471</td>\n",
       "      <td>0.446603</td>\n",
       "      <td>0.216413</td>\n",
       "    </tr>\n",
       "    <tr>\n",
       "      <td>APPLIANCES</td>\n",
       "      <td>0.073383</td>\n",
       "      <td>0.005022</td>\n",
       "      <td>0.047567</td>\n",
       "      <td>0.017364</td>\n",
       "      <td>1.000000</td>\n",
       "      <td>-0.004427</td>\n",
       "      <td>0.011625</td>\n",
       "      <td>0.000341</td>\n",
       "      <td>0.014611</td>\n",
       "      <td>0.011806</td>\n",
       "      <td>0.006156</td>\n",
       "      <td>-0.001345</td>\n",
       "      <td>0.014727</td>\n",
       "      <td>-0.001554</td>\n",
       "      <td>0.017981</td>\n",
       "      <td>0.010076</td>\n",
       "      <td>0.020883</td>\n",
       "      <td>0.292884</td>\n",
       "      <td>0.194100</td>\n",
       "    </tr>\n",
       "    <tr>\n",
       "      <td>CULTURE</td>\n",
       "      <td>0.014100</td>\n",
       "      <td>0.003830</td>\n",
       "      <td>0.048938</td>\n",
       "      <td>0.041686</td>\n",
       "      <td>-0.004427</td>\n",
       "      <td>1.000000</td>\n",
       "      <td>0.004173</td>\n",
       "      <td>0.009796</td>\n",
       "      <td>0.053285</td>\n",
       "      <td>0.008625</td>\n",
       "      <td>0.000312</td>\n",
       "      <td>0.001578</td>\n",
       "      <td>0.012411</td>\n",
       "      <td>0.019554</td>\n",
       "      <td>0.021738</td>\n",
       "      <td>0.009853</td>\n",
       "      <td>0.041712</td>\n",
       "      <td>0.079605</td>\n",
       "      <td>0.056201</td>\n",
       "    </tr>\n",
       "    <tr>\n",
       "      <td>GAS</td>\n",
       "      <td>0.059228</td>\n",
       "      <td>0.014461</td>\n",
       "      <td>0.084598</td>\n",
       "      <td>0.049210</td>\n",
       "      <td>0.011625</td>\n",
       "      <td>0.004173</td>\n",
       "      <td>1.000000</td>\n",
       "      <td>0.008791</td>\n",
       "      <td>0.058460</td>\n",
       "      <td>0.001744</td>\n",
       "      <td>0.021966</td>\n",
       "      <td>0.009373</td>\n",
       "      <td>0.055364</td>\n",
       "      <td>0.021578</td>\n",
       "      <td>0.035925</td>\n",
       "      <td>0.013956</td>\n",
       "      <td>0.089829</td>\n",
       "      <td>0.241946</td>\n",
       "      <td>0.182466</td>\n",
       "    </tr>\n",
       "    <tr>\n",
       "      <td>BOOKS</td>\n",
       "      <td>0.028333</td>\n",
       "      <td>0.008011</td>\n",
       "      <td>0.062649</td>\n",
       "      <td>0.027089</td>\n",
       "      <td>0.000341</td>\n",
       "      <td>0.009796</td>\n",
       "      <td>0.008791</td>\n",
       "      <td>1.000000</td>\n",
       "      <td>0.028036</td>\n",
       "      <td>0.004280</td>\n",
       "      <td>0.029961</td>\n",
       "      <td>0.001391</td>\n",
       "      <td>0.012636</td>\n",
       "      <td>0.004282</td>\n",
       "      <td>0.010343</td>\n",
       "      <td>0.005281</td>\n",
       "      <td>0.018609</td>\n",
       "      <td>0.207339</td>\n",
       "      <td>0.053447</td>\n",
       "    </tr>\n",
       "    <tr>\n",
       "      <td>APPAREL</td>\n",
       "      <td>0.135245</td>\n",
       "      <td>0.030532</td>\n",
       "      <td>0.322521</td>\n",
       "      <td>0.330098</td>\n",
       "      <td>0.014611</td>\n",
       "      <td>0.053285</td>\n",
       "      <td>0.058460</td>\n",
       "      <td>0.028036</td>\n",
       "      <td>1.000000</td>\n",
       "      <td>-0.000390</td>\n",
       "      <td>0.062039</td>\n",
       "      <td>0.022050</td>\n",
       "      <td>0.140191</td>\n",
       "      <td>0.110238</td>\n",
       "      <td>0.110329</td>\n",
       "      <td>0.021576</td>\n",
       "      <td>0.205884</td>\n",
       "      <td>0.592891</td>\n",
       "      <td>0.325836</td>\n",
       "    </tr>\n",
       "    <tr>\n",
       "      <td>FITNESS</td>\n",
       "      <td>0.000892</td>\n",
       "      <td>-0.004759</td>\n",
       "      <td>0.028713</td>\n",
       "      <td>-0.002228</td>\n",
       "      <td>0.011806</td>\n",
       "      <td>0.008625</td>\n",
       "      <td>0.001744</td>\n",
       "      <td>0.004280</td>\n",
       "      <td>-0.000390</td>\n",
       "      <td>1.000000</td>\n",
       "      <td>0.115102</td>\n",
       "      <td>-0.000218</td>\n",
       "      <td>-0.002535</td>\n",
       "      <td>0.002120</td>\n",
       "      <td>0.001007</td>\n",
       "      <td>0.009608</td>\n",
       "      <td>0.030602</td>\n",
       "      <td>0.042276</td>\n",
       "      <td>0.026484</td>\n",
       "    </tr>\n",
       "    <tr>\n",
       "      <td>EDUCATION</td>\n",
       "      <td>0.016226</td>\n",
       "      <td>0.006527</td>\n",
       "      <td>0.112844</td>\n",
       "      <td>0.031287</td>\n",
       "      <td>0.006156</td>\n",
       "      <td>0.000312</td>\n",
       "      <td>0.021966</td>\n",
       "      <td>0.029961</td>\n",
       "      <td>0.062039</td>\n",
       "      <td>0.115102</td>\n",
       "      <td>1.000000</td>\n",
       "      <td>0.001611</td>\n",
       "      <td>0.010223</td>\n",
       "      <td>0.013257</td>\n",
       "      <td>0.010910</td>\n",
       "      <td>0.016824</td>\n",
       "      <td>0.047741</td>\n",
       "      <td>0.150235</td>\n",
       "      <td>0.035425</td>\n",
       "    </tr>\n",
       "    <tr>\n",
       "      <td>ENTERTAINMENT</td>\n",
       "      <td>0.073823</td>\n",
       "      <td>0.005422</td>\n",
       "      <td>0.175912</td>\n",
       "      <td>0.017088</td>\n",
       "      <td>-0.001345</td>\n",
       "      <td>0.001578</td>\n",
       "      <td>0.009373</td>\n",
       "      <td>0.001391</td>\n",
       "      <td>0.022050</td>\n",
       "      <td>-0.000218</td>\n",
       "      <td>0.001611</td>\n",
       "      <td>1.000000</td>\n",
       "      <td>0.002739</td>\n",
       "      <td>0.003746</td>\n",
       "      <td>0.002337</td>\n",
       "      <td>0.008581</td>\n",
       "      <td>0.040657</td>\n",
       "      <td>0.468742</td>\n",
       "      <td>0.084650</td>\n",
       "    </tr>\n",
       "    <tr>\n",
       "      <td>FOOD</td>\n",
       "      <td>0.093045</td>\n",
       "      <td>0.011911</td>\n",
       "      <td>0.188929</td>\n",
       "      <td>0.117410</td>\n",
       "      <td>0.014727</td>\n",
       "      <td>0.012411</td>\n",
       "      <td>0.055364</td>\n",
       "      <td>0.012636</td>\n",
       "      <td>0.140191</td>\n",
       "      <td>-0.002535</td>\n",
       "      <td>0.010223</td>\n",
       "      <td>0.002739</td>\n",
       "      <td>1.000000</td>\n",
       "      <td>0.047716</td>\n",
       "      <td>0.047856</td>\n",
       "      <td>0.032436</td>\n",
       "      <td>0.069753</td>\n",
       "      <td>0.353111</td>\n",
       "      <td>0.220724</td>\n",
       "    </tr>\n",
       "    <tr>\n",
       "      <td>HEALTH</td>\n",
       "      <td>0.036721</td>\n",
       "      <td>-0.010127</td>\n",
       "      <td>0.122570</td>\n",
       "      <td>0.096005</td>\n",
       "      <td>-0.001554</td>\n",
       "      <td>0.019554</td>\n",
       "      <td>0.021578</td>\n",
       "      <td>0.004282</td>\n",
       "      <td>0.110238</td>\n",
       "      <td>0.002120</td>\n",
       "      <td>0.013257</td>\n",
       "      <td>0.003746</td>\n",
       "      <td>0.047716</td>\n",
       "      <td>1.000000</td>\n",
       "      <td>0.028034</td>\n",
       "      <td>0.010112</td>\n",
       "      <td>0.055082</td>\n",
       "      <td>0.247236</td>\n",
       "      <td>0.161058</td>\n",
       "    </tr>\n",
       "    <tr>\n",
       "      <td>HOME_GARDEN</td>\n",
       "      <td>0.080064</td>\n",
       "      <td>-0.004930</td>\n",
       "      <td>0.109448</td>\n",
       "      <td>0.063548</td>\n",
       "      <td>0.017981</td>\n",
       "      <td>0.021738</td>\n",
       "      <td>0.035925</td>\n",
       "      <td>0.010343</td>\n",
       "      <td>0.110329</td>\n",
       "      <td>0.001007</td>\n",
       "      <td>0.010910</td>\n",
       "      <td>0.002337</td>\n",
       "      <td>0.047856</td>\n",
       "      <td>0.028034</td>\n",
       "      <td>1.000000</td>\n",
       "      <td>0.008022</td>\n",
       "      <td>0.068429</td>\n",
       "      <td>0.251279</td>\n",
       "      <td>0.184342</td>\n",
       "    </tr>\n",
       "    <tr>\n",
       "      <td>TELCOS</td>\n",
       "      <td>0.066202</td>\n",
       "      <td>0.051415</td>\n",
       "      <td>0.127815</td>\n",
       "      <td>0.022882</td>\n",
       "      <td>0.010076</td>\n",
       "      <td>0.009853</td>\n",
       "      <td>0.013956</td>\n",
       "      <td>0.005281</td>\n",
       "      <td>0.021576</td>\n",
       "      <td>0.009608</td>\n",
       "      <td>0.016824</td>\n",
       "      <td>0.008581</td>\n",
       "      <td>0.032436</td>\n",
       "      <td>0.010112</td>\n",
       "      <td>0.008022</td>\n",
       "      <td>1.000000</td>\n",
       "      <td>0.058378</td>\n",
       "      <td>0.227899</td>\n",
       "      <td>0.215757</td>\n",
       "    </tr>\n",
       "    <tr>\n",
       "      <td>TRAVEL</td>\n",
       "      <td>0.053291</td>\n",
       "      <td>0.035218</td>\n",
       "      <td>0.182427</td>\n",
       "      <td>0.134471</td>\n",
       "      <td>0.020883</td>\n",
       "      <td>0.041712</td>\n",
       "      <td>0.089829</td>\n",
       "      <td>0.018609</td>\n",
       "      <td>0.205884</td>\n",
       "      <td>0.030602</td>\n",
       "      <td>0.047741</td>\n",
       "      <td>0.040657</td>\n",
       "      <td>0.069753</td>\n",
       "      <td>0.055082</td>\n",
       "      <td>0.068429</td>\n",
       "      <td>0.058378</td>\n",
       "      <td>1.000000</td>\n",
       "      <td>0.458276</td>\n",
       "      <td>0.209226</td>\n",
       "    </tr>\n",
       "    <tr>\n",
       "      <td>PURCHASES_AMOUNT</td>\n",
       "      <td>0.203223</td>\n",
       "      <td>0.041074</td>\n",
       "      <td>0.436394</td>\n",
       "      <td>0.446603</td>\n",
       "      <td>0.292884</td>\n",
       "      <td>0.079605</td>\n",
       "      <td>0.241946</td>\n",
       "      <td>0.207339</td>\n",
       "      <td>0.592891</td>\n",
       "      <td>0.042276</td>\n",
       "      <td>0.150235</td>\n",
       "      <td>0.468742</td>\n",
       "      <td>0.353111</td>\n",
       "      <td>0.247236</td>\n",
       "      <td>0.251279</td>\n",
       "      <td>0.227899</td>\n",
       "      <td>0.458276</td>\n",
       "      <td>1.000000</td>\n",
       "      <td>0.490725</td>\n",
       "    </tr>\n",
       "    <tr>\n",
       "      <td>Loyalty</td>\n",
       "      <td>0.200118</td>\n",
       "      <td>0.228627</td>\n",
       "      <td>0.327790</td>\n",
       "      <td>0.216413</td>\n",
       "      <td>0.194100</td>\n",
       "      <td>0.056201</td>\n",
       "      <td>0.182466</td>\n",
       "      <td>0.053447</td>\n",
       "      <td>0.325836</td>\n",
       "      <td>0.026484</td>\n",
       "      <td>0.035425</td>\n",
       "      <td>0.084650</td>\n",
       "      <td>0.220724</td>\n",
       "      <td>0.161058</td>\n",
       "      <td>0.184342</td>\n",
       "      <td>0.215757</td>\n",
       "      <td>0.209226</td>\n",
       "      <td>0.490725</td>\n",
       "      <td>1.000000</td>\n",
       "    </tr>\n",
       "  </tbody>\n",
       "</table>\n",
       "</div>"
      ],
      "text/plain": [
       "                  AVG_BALANCE    TENURE  NUM_TRANS  ACCESSORIES  APPLIANCES  \\\n",
       "AVG_BALANCE          1.000000  0.097542   0.047497     0.103256    0.073383   \n",
       "TENURE               0.097542  1.000000   0.091020     0.014585    0.005022   \n",
       "NUM_TRANS            0.047497  0.091020   1.000000     0.213623    0.047567   \n",
       "ACCESSORIES          0.103256  0.014585   0.213623     1.000000    0.017364   \n",
       "APPLIANCES           0.073383  0.005022   0.047567     0.017364    1.000000   \n",
       "CULTURE              0.014100  0.003830   0.048938     0.041686   -0.004427   \n",
       "GAS                  0.059228  0.014461   0.084598     0.049210    0.011625   \n",
       "BOOKS                0.028333  0.008011   0.062649     0.027089    0.000341   \n",
       "APPAREL              0.135245  0.030532   0.322521     0.330098    0.014611   \n",
       "FITNESS              0.000892 -0.004759   0.028713    -0.002228    0.011806   \n",
       "EDUCATION            0.016226  0.006527   0.112844     0.031287    0.006156   \n",
       "ENTERTAINMENT        0.073823  0.005422   0.175912     0.017088   -0.001345   \n",
       "FOOD                 0.093045  0.011911   0.188929     0.117410    0.014727   \n",
       "HEALTH               0.036721 -0.010127   0.122570     0.096005   -0.001554   \n",
       "HOME_GARDEN          0.080064 -0.004930   0.109448     0.063548    0.017981   \n",
       "TELCOS               0.066202  0.051415   0.127815     0.022882    0.010076   \n",
       "TRAVEL               0.053291  0.035218   0.182427     0.134471    0.020883   \n",
       "PURCHASES_AMOUNT     0.203223  0.041074   0.436394     0.446603    0.292884   \n",
       "Loyalty              0.200118  0.228627   0.327790     0.216413    0.194100   \n",
       "\n",
       "                   CULTURE       GAS     BOOKS   APPAREL   FITNESS  EDUCATION  \\\n",
       "AVG_BALANCE       0.014100  0.059228  0.028333  0.135245  0.000892   0.016226   \n",
       "TENURE            0.003830  0.014461  0.008011  0.030532 -0.004759   0.006527   \n",
       "NUM_TRANS         0.048938  0.084598  0.062649  0.322521  0.028713   0.112844   \n",
       "ACCESSORIES       0.041686  0.049210  0.027089  0.330098 -0.002228   0.031287   \n",
       "APPLIANCES       -0.004427  0.011625  0.000341  0.014611  0.011806   0.006156   \n",
       "CULTURE           1.000000  0.004173  0.009796  0.053285  0.008625   0.000312   \n",
       "GAS               0.004173  1.000000  0.008791  0.058460  0.001744   0.021966   \n",
       "BOOKS             0.009796  0.008791  1.000000  0.028036  0.004280   0.029961   \n",
       "APPAREL           0.053285  0.058460  0.028036  1.000000 -0.000390   0.062039   \n",
       "FITNESS           0.008625  0.001744  0.004280 -0.000390  1.000000   0.115102   \n",
       "EDUCATION         0.000312  0.021966  0.029961  0.062039  0.115102   1.000000   \n",
       "ENTERTAINMENT     0.001578  0.009373  0.001391  0.022050 -0.000218   0.001611   \n",
       "FOOD              0.012411  0.055364  0.012636  0.140191 -0.002535   0.010223   \n",
       "HEALTH            0.019554  0.021578  0.004282  0.110238  0.002120   0.013257   \n",
       "HOME_GARDEN       0.021738  0.035925  0.010343  0.110329  0.001007   0.010910   \n",
       "TELCOS            0.009853  0.013956  0.005281  0.021576  0.009608   0.016824   \n",
       "TRAVEL            0.041712  0.089829  0.018609  0.205884  0.030602   0.047741   \n",
       "PURCHASES_AMOUNT  0.079605  0.241946  0.207339  0.592891  0.042276   0.150235   \n",
       "Loyalty           0.056201  0.182466  0.053447  0.325836  0.026484   0.035425   \n",
       "\n",
       "                  ENTERTAINMENT      FOOD    HEALTH  HOME_GARDEN    TELCOS  \\\n",
       "AVG_BALANCE            0.073823  0.093045  0.036721     0.080064  0.066202   \n",
       "TENURE                 0.005422  0.011911 -0.010127    -0.004930  0.051415   \n",
       "NUM_TRANS              0.175912  0.188929  0.122570     0.109448  0.127815   \n",
       "ACCESSORIES            0.017088  0.117410  0.096005     0.063548  0.022882   \n",
       "APPLIANCES            -0.001345  0.014727 -0.001554     0.017981  0.010076   \n",
       "CULTURE                0.001578  0.012411  0.019554     0.021738  0.009853   \n",
       "GAS                    0.009373  0.055364  0.021578     0.035925  0.013956   \n",
       "BOOKS                  0.001391  0.012636  0.004282     0.010343  0.005281   \n",
       "APPAREL                0.022050  0.140191  0.110238     0.110329  0.021576   \n",
       "FITNESS               -0.000218 -0.002535  0.002120     0.001007  0.009608   \n",
       "EDUCATION              0.001611  0.010223  0.013257     0.010910  0.016824   \n",
       "ENTERTAINMENT          1.000000  0.002739  0.003746     0.002337  0.008581   \n",
       "FOOD                   0.002739  1.000000  0.047716     0.047856  0.032436   \n",
       "HEALTH                 0.003746  0.047716  1.000000     0.028034  0.010112   \n",
       "HOME_GARDEN            0.002337  0.047856  0.028034     1.000000  0.008022   \n",
       "TELCOS                 0.008581  0.032436  0.010112     0.008022  1.000000   \n",
       "TRAVEL                 0.040657  0.069753  0.055082     0.068429  0.058378   \n",
       "PURCHASES_AMOUNT       0.468742  0.353111  0.247236     0.251279  0.227899   \n",
       "Loyalty                0.084650  0.220724  0.161058     0.184342  0.215757   \n",
       "\n",
       "                    TRAVEL  PURCHASES_AMOUNT   Loyalty  \n",
       "AVG_BALANCE       0.053291          0.203223  0.200118  \n",
       "TENURE            0.035218          0.041074  0.228627  \n",
       "NUM_TRANS         0.182427          0.436394  0.327790  \n",
       "ACCESSORIES       0.134471          0.446603  0.216413  \n",
       "APPLIANCES        0.020883          0.292884  0.194100  \n",
       "CULTURE           0.041712          0.079605  0.056201  \n",
       "GAS               0.089829          0.241946  0.182466  \n",
       "BOOKS             0.018609          0.207339  0.053447  \n",
       "APPAREL           0.205884          0.592891  0.325836  \n",
       "FITNESS           0.030602          0.042276  0.026484  \n",
       "EDUCATION         0.047741          0.150235  0.035425  \n",
       "ENTERTAINMENT     0.040657          0.468742  0.084650  \n",
       "FOOD              0.069753          0.353111  0.220724  \n",
       "HEALTH            0.055082          0.247236  0.161058  \n",
       "HOME_GARDEN       0.068429          0.251279  0.184342  \n",
       "TELCOS            0.058378          0.227899  0.215757  \n",
       "TRAVEL            1.000000          0.458276  0.209226  \n",
       "PURCHASES_AMOUNT  0.458276          1.000000  0.490725  \n",
       "Loyalty           0.209226          0.490725  1.000000  "
      ]
     },
     "execution_count": 9,
     "metadata": {},
     "output_type": "execute_result"
    }
   ],
   "source": [
    "ccu_data.corr()"
   ]
  },
  {
   "cell_type": "markdown",
   "metadata": {},
   "source": [
    "# II - Preprocessing"
   ]
  },
  {
   "cell_type": "code",
   "execution_count": 10,
   "metadata": {},
   "outputs": [],
   "source": [
    "scaler = StandardScaler() \n",
    "scaled_df = scaler.fit_transform(ccu_data)\n",
    "normalized_df = normalize(scaled_df)\n",
    "normalized_df = pd.DataFrame(normalized_df)"
   ]
  },
  {
   "cell_type": "code",
   "execution_count": 11,
   "metadata": {},
   "outputs": [],
   "source": [
    "X= np.asarray(normalized_df)"
   ]
  },
  {
   "cell_type": "code",
   "execution_count": 12,
   "metadata": {},
   "outputs": [],
   "source": [
    "n_clusters=30\n",
    "cost=[]\n",
    "sil=[]\n",
    "for i in range(2,n_clusters):\n",
    "    kmean= KMeans(i)\n",
    "    kmean.fit(X)\n",
    "    # sse\n",
    "    cost.append(kmean.inertia_)\n",
    "    # silouhaite\n",
    "    #print(np.unique(kmean.labels_))\n",
    "    sil.append(silhouette_score(X, kmean.labels_, metric='euclidean')) "
   ]
  },
  {
   "cell_type": "code",
   "execution_count": 13,
   "metadata": {},
   "outputs": [
    {
     "data": {
      "text/plain": [
       "[<matplotlib.lines.Line2D at 0x1da6f12d588>]"
      ]
     },
     "execution_count": 13,
     "metadata": {},
     "output_type": "execute_result"
    },
    {
     "data": {
      "image/png": "[encoded data removed]",
      "text/plain": [
       "<Figure size 432x288 with 1 Axes>"
      ]
     },
     "metadata": {
      "needs_background": "light"
     },
     "output_type": "display_data"
    }
   ],
   "source": [
    "plt.plot(sil, 'bx-')"
   ]
  },
  {
   "cell_type": "code",
   "execution_count": 14,
   "metadata": {},
   "outputs": [
    {
     "data": {
      "text/plain": [
       "[<matplotlib.lines.Line2D at 0x1da6f1d2188>]"
      ]
     },
     "execution_count": 14,
     "metadata": {},
     "output_type": "execute_result"
    },
    {
     "data": {
      "image/png": "[encoded data removed]",
      "text/plain": [
       "<Figure size 432x288 with 1 Axes>"
      ]
     },
     "metadata": {
      "needs_background": "light"
     },
     "output_type": "display_data"
    }
   ],
   "source": [
    "plt.plot(cost, 'bx-')"
   ]
  },
  {
   "cell_type": "code",
   "execution_count": 16,
   "metadata": {},
   "outputs": [],
   "source": [
    "kmean= KMeans(4)\n",
    "kmean.fit(X)\n",
    "labels=kmean.labels_\n",
    "clusters_Kmeans=pd.concat([ccu_data, pd.DataFrame({'cluster':labels})], axis=1)\n",
    "clusters_Kmeans.dropna(inplace = True)\n",
    "clusters_Kmeans.to_csv(\"Kmeans/data.csv\", index=False)"
   ]
  },
  {
   "cell_type": "markdown",
   "metadata": {},
   "source": [
    "## Outliers"
   ]
  },
  {
   "cell_type": "code",
   "execution_count": 23,
   "metadata": {
    "scrolled": true
   },
   "outputs": [
    {
     "data": {
      "image/png": "[encoded data removed]",
      "text/plain": [
       "<Figure size 432x288 with 1 Axes>"
      ]
     },
     "metadata": {
      "needs_background": "light"
     },
     "output_type": "display_data"
    },
    {
     "data": {
      "image/png": "[encoded data removed]",
      "text/plain": [
       "<Figure size 432x288 with 1 Axes>"
      ]
     },
     "metadata": {
      "needs_background": "light"
     },
     "output_type": "display_data"
    },
    {
     "data": {
      "image/png": "[encoded data removed]",
      "text/plain": [
       "<Figure size 432x288 with 1 Axes>"
      ]
     },
     "metadata": {
      "needs_background": "light"
     },
     "output_type": "display_data"
    },
    {
     "data": {
      "image/png": "[encoded data removed]",
      "text/plain": [
       "<Figure size 432x288 with 1 Axes>"
      ]
     },
     "metadata": {
      "needs_background": "light"
     },
     "output_type": "display_data"
    },
    {
     "data": {
      "image/png": "[encoded data removed]",
      "text/plain": [
       "<Figure size 432x288 with 1 Axes>"
      ]
     },
     "metadata": {
      "needs_background": "light"
     },
     "output_type": "display_data"
    },
    {
     "data": {
      "image/png": "[encoded data removed]",
      "text/plain": [
       "<Figure size 432x288 with 1 Axes>"
      ]
     },
     "metadata": {
      "needs_background": "light"
     },
     "output_type": "display_data"
    },
    {
     "data": {
      "image/png": "[encoded data removed]",
      "text/plain": [
       "<Figure size 432x288 with 1 Axes>"
      ]
     },
     "metadata": {
      "needs_background": "light"
     },
     "output_type": "display_data"
    },
    {
     "data": {
      "image/png": "[encoded data removed]",
      "text/plain": [
       "<Figure size 432x288 with 1 Axes>"
      ]
     },
     "metadata": {
      "needs_background": "light"
     },
     "output_type": "display_data"
    },
    {
     "data": {
      "image/png": "[encoded data removed]",
      "text/plain": [
       "<Figure size 432x288 with 1 Axes>"
      ]
     },
     "metadata": {
      "needs_background": "light"
     },
     "output_type": "display_data"
    },
    {
     "data": {
      "image/png": "[encoded data removed]",
      "text/plain": [
       "<Figure size 432x288 with 1 Axes>"
      ]
     },
     "metadata": {
      "needs_background": "light"
     },
     "output_type": "display_data"
    },
    {
     "data": {
      "image/png": "[encoded data removed]",
      "text/plain": [
       "<Figure size 432x288 with 1 Axes>"
      ]
     },
     "metadata": {
      "needs_background": "light"
     },
     "output_type": "display_data"
    },
    {
     "data": {
      "image/png": "[encoded data removed]",
      "text/plain": [
       "<Figure size 432x288 with 1 Axes>"
      ]
     },
     "metadata": {
      "needs_background": "light"
     },
     "output_type": "display_data"
    },
    {
     "data": {
      "image/png": "[encoded data removed]",
      "text/plain": [
       "<Figure size 432x288 with 1 Axes>"
      ]
     },
     "metadata": {
      "needs_background": "light"
     },
     "output_type": "display_data"
    },
    {
     "data": {
      "image/png": "[encoded data removed]",
      "text/plain": [
       "<Figure size 432x288 with 1 Axes>"
      ]
     },
     "metadata": {
      "needs_background": "light"
     },
     "output_type": "display_data"
    },
    {
     "data": {
      "image/png": "[encoded data removed]",
      "text/plain": [
       "<Figure size 432x288 with 1 Axes>"
      ]
     },
     "metadata": {
      "needs_background": "light"
     },
     "output_type": "display_data"
    },
    {
     "data": {
      "image/png": "[encoded data removed]",
      "text/plain": [
       "<Figure size 432x288 with 1 Axes>"
      ]
     },
     "metadata": {
      "needs_background": "light"
     },
     "output_type": "display_data"
    },
    {
     "data": {
      "image/png": "[encoded data removed]",
      "text/plain": [
       "<Figure size 432x288 with 1 Axes>"
      ]
     },
     "metadata": {
      "needs_background": "light"
     },
     "output_type": "display_data"
    },
    {
     "data": {
      "image/png": "[encoded data removed]",
      "text/plain": [
       "<Figure size 432x288 with 1 Axes>"
      ]
     },
     "metadata": {
      "needs_background": "light"
     },
     "output_type": "display_data"
    },
    {
     "data": {
      "image/png": "[encoded data removed]",
      "text/plain": [
       "<Figure size 432x288 with 1 Axes>"
      ]
     },
     "metadata": {
      "needs_background": "light"
     },
     "output_type": "display_data"
    }
   ],
   "source": [
    "for col in ccu_data:\n",
    "    plt.boxplot(ccu_data[col])\n",
    "    plt.title(col)\n",
    "    plt.show()"
   ]
  },
  {
   "cell_type": "code",
   "execution_count": 24,
   "metadata": {},
   "outputs": [
    {
     "data": {
      "text/html": [
       "<div>\n",
       "<style scoped>\n",
       "    .dataframe tbody tr th:only-of-type {\n",
       "        vertical-align: middle;\n",
       "    }\n",
       "\n",
       "    .dataframe tbody tr th {\n",
       "        vertical-align: top;\n",
       "    }\n",
       "\n",
       "    .dataframe thead th {\n",
       "        text-align: right;\n",
       "    }\n",
       "</style>\n",
       "<table border=\"1\" class=\"dataframe\">\n",
       "  <thead>\n",
       "    <tr style=\"text-align: right;\">\n",
       "      <th></th>\n",
       "      <th>AVG_BALANCE</th>\n",
       "      <th>TENURE</th>\n",
       "      <th>NUM_TRANS</th>\n",
       "      <th>ACCESSORIES</th>\n",
       "      <th>APPLIANCES</th>\n",
       "      <th>CULTURE</th>\n",
       "      <th>GAS</th>\n",
       "      <th>BOOKS</th>\n",
       "      <th>APPAREL</th>\n",
       "      <th>FITNESS</th>\n",
       "      <th>EDUCATION</th>\n",
       "      <th>ENTERTAINMENT</th>\n",
       "      <th>FOOD</th>\n",
       "      <th>HEALTH</th>\n",
       "      <th>HOME_GARDEN</th>\n",
       "      <th>TELCOS</th>\n",
       "      <th>TRAVEL</th>\n",
       "      <th>PURCHASES_AMOUNT</th>\n",
       "      <th>Loyalty</th>\n",
       "    </tr>\n",
       "  </thead>\n",
       "  <tbody>\n",
       "    <tr>\n",
       "      <td>0</td>\n",
       "      <td>3044.993177</td>\n",
       "      <td>12</td>\n",
       "      <td>11.006688</td>\n",
       "      <td>0.000000</td>\n",
       "      <td>2168.506639</td>\n",
       "      <td>0.0</td>\n",
       "      <td>0.000000</td>\n",
       "      <td>0.0</td>\n",
       "      <td>0.000000</td>\n",
       "      <td>0.0</td>\n",
       "      <td>0.0</td>\n",
       "      <td>0.000000</td>\n",
       "      <td>0.000000</td>\n",
       "      <td>0.000000</td>\n",
       "      <td>0.000000</td>\n",
       "      <td>0.0</td>\n",
       "      <td>0.0</td>\n",
       "      <td>2168.506639</td>\n",
       "      <td>1</td>\n",
       "    </tr>\n",
       "    <tr>\n",
       "      <td>1</td>\n",
       "      <td>81.927748</td>\n",
       "      <td>12</td>\n",
       "      <td>0.985254</td>\n",
       "      <td>0.000000</td>\n",
       "      <td>1779.354561</td>\n",
       "      <td>0.0</td>\n",
       "      <td>0.000000</td>\n",
       "      <td>0.0</td>\n",
       "      <td>0.000000</td>\n",
       "      <td>0.0</td>\n",
       "      <td>0.0</td>\n",
       "      <td>0.000000</td>\n",
       "      <td>0.000000</td>\n",
       "      <td>0.000000</td>\n",
       "      <td>0.000000</td>\n",
       "      <td>0.0</td>\n",
       "      <td>0.0</td>\n",
       "      <td>1779.354561</td>\n",
       "      <td>0</td>\n",
       "    </tr>\n",
       "    <tr>\n",
       "      <td>2</td>\n",
       "      <td>1345.213562</td>\n",
       "      <td>12</td>\n",
       "      <td>2.830550</td>\n",
       "      <td>0.000000</td>\n",
       "      <td>0.000000</td>\n",
       "      <td>0.0</td>\n",
       "      <td>163.266045</td>\n",
       "      <td>0.0</td>\n",
       "      <td>1590.748309</td>\n",
       "      <td>0.0</td>\n",
       "      <td>0.0</td>\n",
       "      <td>0.000000</td>\n",
       "      <td>0.000000</td>\n",
       "      <td>0.000000</td>\n",
       "      <td>0.000000</td>\n",
       "      <td>0.0</td>\n",
       "      <td>0.0</td>\n",
       "      <td>1754.014354</td>\n",
       "      <td>0</td>\n",
       "    </tr>\n",
       "    <tr>\n",
       "      <td>3</td>\n",
       "      <td>3193.925166</td>\n",
       "      <td>12</td>\n",
       "      <td>0.000000</td>\n",
       "      <td>0.000000</td>\n",
       "      <td>0.000000</td>\n",
       "      <td>0.0</td>\n",
       "      <td>0.000000</td>\n",
       "      <td>0.0</td>\n",
       "      <td>0.000000</td>\n",
       "      <td>0.0</td>\n",
       "      <td>0.0</td>\n",
       "      <td>0.000000</td>\n",
       "      <td>0.000000</td>\n",
       "      <td>0.000000</td>\n",
       "      <td>0.000000</td>\n",
       "      <td>0.0</td>\n",
       "      <td>0.0</td>\n",
       "      <td>0.000000</td>\n",
       "      <td>0</td>\n",
       "    </tr>\n",
       "    <tr>\n",
       "      <td>4</td>\n",
       "      <td>284.286718</td>\n",
       "      <td>7</td>\n",
       "      <td>11.757291</td>\n",
       "      <td>0.000000</td>\n",
       "      <td>189.991137</td>\n",
       "      <td>0.0</td>\n",
       "      <td>628.363089</td>\n",
       "      <td>0.0</td>\n",
       "      <td>0.000000</td>\n",
       "      <td>0.0</td>\n",
       "      <td>0.0</td>\n",
       "      <td>0.000000</td>\n",
       "      <td>29.831540</td>\n",
       "      <td>58.269684</td>\n",
       "      <td>61.882977</td>\n",
       "      <td>0.0</td>\n",
       "      <td>0.0</td>\n",
       "      <td>968.338427</td>\n",
       "      <td>0</td>\n",
       "    </tr>\n",
       "    <tr>\n",
       "      <td>...</td>\n",
       "      <td>...</td>\n",
       "      <td>...</td>\n",
       "      <td>...</td>\n",
       "      <td>...</td>\n",
       "      <td>...</td>\n",
       "      <td>...</td>\n",
       "      <td>...</td>\n",
       "      <td>...</td>\n",
       "      <td>...</td>\n",
       "      <td>...</td>\n",
       "      <td>...</td>\n",
       "      <td>...</td>\n",
       "      <td>...</td>\n",
       "      <td>...</td>\n",
       "      <td>...</td>\n",
       "      <td>...</td>\n",
       "      <td>...</td>\n",
       "      <td>...</td>\n",
       "      <td>...</td>\n",
       "    </tr>\n",
       "    <tr>\n",
       "      <td>18966</td>\n",
       "      <td>433.941742</td>\n",
       "      <td>6</td>\n",
       "      <td>0.000000</td>\n",
       "      <td>0.000000</td>\n",
       "      <td>0.000000</td>\n",
       "      <td>0.0</td>\n",
       "      <td>0.000000</td>\n",
       "      <td>0.0</td>\n",
       "      <td>0.000000</td>\n",
       "      <td>0.0</td>\n",
       "      <td>0.0</td>\n",
       "      <td>0.000000</td>\n",
       "      <td>0.000000</td>\n",
       "      <td>0.000000</td>\n",
       "      <td>0.000000</td>\n",
       "      <td>0.0</td>\n",
       "      <td>0.0</td>\n",
       "      <td>0.000000</td>\n",
       "      <td>0</td>\n",
       "    </tr>\n",
       "    <tr>\n",
       "      <td>18967</td>\n",
       "      <td>745.654579</td>\n",
       "      <td>6</td>\n",
       "      <td>0.000000</td>\n",
       "      <td>0.000000</td>\n",
       "      <td>0.000000</td>\n",
       "      <td>0.0</td>\n",
       "      <td>0.000000</td>\n",
       "      <td>0.0</td>\n",
       "      <td>0.000000</td>\n",
       "      <td>0.0</td>\n",
       "      <td>0.0</td>\n",
       "      <td>0.000000</td>\n",
       "      <td>0.000000</td>\n",
       "      <td>0.000000</td>\n",
       "      <td>0.000000</td>\n",
       "      <td>0.0</td>\n",
       "      <td>0.0</td>\n",
       "      <td>0.000000</td>\n",
       "      <td>0</td>\n",
       "    </tr>\n",
       "    <tr>\n",
       "      <td>18968</td>\n",
       "      <td>244.651399</td>\n",
       "      <td>6</td>\n",
       "      <td>3.734193</td>\n",
       "      <td>0.000000</td>\n",
       "      <td>0.000000</td>\n",
       "      <td>0.0</td>\n",
       "      <td>0.000000</td>\n",
       "      <td>0.0</td>\n",
       "      <td>926.602407</td>\n",
       "      <td>0.0</td>\n",
       "      <td>0.0</td>\n",
       "      <td>0.000000</td>\n",
       "      <td>0.000000</td>\n",
       "      <td>0.000000</td>\n",
       "      <td>0.000000</td>\n",
       "      <td>0.0</td>\n",
       "      <td>0.0</td>\n",
       "      <td>926.602407</td>\n",
       "      <td>0</td>\n",
       "    </tr>\n",
       "    <tr>\n",
       "      <td>18969</td>\n",
       "      <td>395.937201</td>\n",
       "      <td>6</td>\n",
       "      <td>5.452103</td>\n",
       "      <td>0.000000</td>\n",
       "      <td>0.000000</td>\n",
       "      <td>0.0</td>\n",
       "      <td>0.000000</td>\n",
       "      <td>0.0</td>\n",
       "      <td>0.000000</td>\n",
       "      <td>0.0</td>\n",
       "      <td>0.0</td>\n",
       "      <td>0.000000</td>\n",
       "      <td>0.000000</td>\n",
       "      <td>564.666947</td>\n",
       "      <td>0.000000</td>\n",
       "      <td>0.0</td>\n",
       "      <td>0.0</td>\n",
       "      <td>564.666947</td>\n",
       "      <td>0</td>\n",
       "    </tr>\n",
       "    <tr>\n",
       "      <td>18970</td>\n",
       "      <td>390.658988</td>\n",
       "      <td>6</td>\n",
       "      <td>21.949723</td>\n",
       "      <td>50.216103</td>\n",
       "      <td>0.000000</td>\n",
       "      <td>0.0</td>\n",
       "      <td>0.000000</td>\n",
       "      <td>0.0</td>\n",
       "      <td>453.646072</td>\n",
       "      <td>0.0</td>\n",
       "      <td>0.0</td>\n",
       "      <td>456.318301</td>\n",
       "      <td>112.869012</td>\n",
       "      <td>92.341615</td>\n",
       "      <td>0.000000</td>\n",
       "      <td>0.0</td>\n",
       "      <td>0.0</td>\n",
       "      <td>1165.391103</td>\n",
       "      <td>0</td>\n",
       "    </tr>\n",
       "  </tbody>\n",
       "</table>\n",
       "<p>18971 rows × 19 columns</p>\n",
       "</div>"
      ],
      "text/plain": [
       "       AVG_BALANCE  TENURE  NUM_TRANS  ACCESSORIES   APPLIANCES  CULTURE  \\\n",
       "0      3044.993177      12  11.006688     0.000000  2168.506639      0.0   \n",
       "1        81.927748      12   0.985254     0.000000  1779.354561      0.0   \n",
       "2      1345.213562      12   2.830550     0.000000     0.000000      0.0   \n",
       "3      3193.925166      12   0.000000     0.000000     0.000000      0.0   \n",
       "4       284.286718       7  11.757291     0.000000   189.991137      0.0   \n",
       "...            ...     ...        ...          ...          ...      ...   \n",
       "18966   433.941742       6   0.000000     0.000000     0.000000      0.0   \n",
       "18967   745.654579       6   0.000000     0.000000     0.000000      0.0   \n",
       "18968   244.651399       6   3.734193     0.000000     0.000000      0.0   \n",
       "18969   395.937201       6   5.452103     0.000000     0.000000      0.0   \n",
       "18970   390.658988       6  21.949723    50.216103     0.000000      0.0   \n",
       "\n",
       "              GAS  BOOKS      APPAREL  FITNESS  EDUCATION  ENTERTAINMENT  \\\n",
       "0        0.000000    0.0     0.000000      0.0        0.0       0.000000   \n",
       "1        0.000000    0.0     0.000000      0.0        0.0       0.000000   \n",
       "2      163.266045    0.0  1590.748309      0.0        0.0       0.000000   \n",
       "3        0.000000    0.0     0.000000      0.0        0.0       0.000000   \n",
       "4      628.363089    0.0     0.000000      0.0        0.0       0.000000   \n",
       "...           ...    ...          ...      ...        ...            ...   \n",
       "18966    0.000000    0.0     0.000000      0.0        0.0       0.000000   \n",
       "18967    0.000000    0.0     0.000000      0.0        0.0       0.000000   \n",
       "18968    0.000000    0.0   926.602407      0.0        0.0       0.000000   \n",
       "18969    0.000000    0.0     0.000000      0.0        0.0       0.000000   \n",
       "18970    0.000000    0.0   453.646072      0.0        0.0     456.318301   \n",
       "\n",
       "             FOOD      HEALTH  HOME_GARDEN  TELCOS  TRAVEL  PURCHASES_AMOUNT  \\\n",
       "0        0.000000    0.000000     0.000000     0.0     0.0       2168.506639   \n",
       "1        0.000000    0.000000     0.000000     0.0     0.0       1779.354561   \n",
       "2        0.000000    0.000000     0.000000     0.0     0.0       1754.014354   \n",
       "3        0.000000    0.000000     0.000000     0.0     0.0          0.000000   \n",
       "4       29.831540   58.269684    61.882977     0.0     0.0        968.338427   \n",
       "...           ...         ...          ...     ...     ...               ...   \n",
       "18966    0.000000    0.000000     0.000000     0.0     0.0          0.000000   \n",
       "18967    0.000000    0.000000     0.000000     0.0     0.0          0.000000   \n",
       "18968    0.000000    0.000000     0.000000     0.0     0.0        926.602407   \n",
       "18969    0.000000  564.666947     0.000000     0.0     0.0        564.666947   \n",
       "18970  112.869012   92.341615     0.000000     0.0     0.0       1165.391103   \n",
       "\n",
       "       Loyalty  \n",
       "0            1  \n",
       "1            0  \n",
       "2            0  \n",
       "3            0  \n",
       "4            0  \n",
       "...        ...  \n",
       "18966        0  \n",
       "18967        0  \n",
       "18968        0  \n",
       "18969        0  \n",
       "18970        0  \n",
       "\n",
       "[18971 rows x 19 columns]"
      ]
     },
     "execution_count": 24,
     "metadata": {},
     "output_type": "execute_result"
    }
   ],
   "source": [
    "ccu_data"
   ]
  },
  {
   "cell_type": "code",
   "execution_count": 25,
   "metadata": {},
   "outputs": [
    {
     "data": {
      "image/png": "[encoded data removed]",
      "text/plain": [
       "<Figure size 432x288 with 1 Axes>"
      ]
     },
     "metadata": {
      "needs_background": "light"
     },
     "output_type": "display_data"
    }
   ],
   "source": [
    "smt = []\n",
    "columns=['ACCESSORIES', 'APPLIANCES', 'CULTURE', 'GAS', 'BOOKS', 'APPAREL',\n",
    "        'FITNESS', 'EDUCATION', 'ENTERTAINMENT', 'FOOD', 'HEALTH', 'HOME_GARDEN', 'TELCOS', 'TRAVEL']\n",
    "for c in columns:\n",
    "    smt.append(ccu_data[c].max())\n",
    "    # 149716.8928\n",
    "    smt.extend(ccu_data[c].values.tolist())\n",
    "plt.boxplot(smt)\n",
    "plt.show()"
   ]
  },
  {
   "cell_type": "code",
   "execution_count": 26,
   "metadata": {},
   "outputs": [],
   "source": [
    "c = 'AVG_BALANCE'\n",
    "Range=c + '_RANGE'\n",
    "ccu_data[Range]=0        \n",
    "ccu_data.loc[((ccu_data[c]>0)&(ccu_data[c]<=2500)),Range]=1\n",
    "ccu_data.loc[((ccu_data[c]>2500)&(ccu_data[c]<=5000)),Range]=2\n",
    "ccu_data.loc[((ccu_data[c]>5000)&(ccu_data[c]<=7500)),Range]=3\n",
    "ccu_data.loc[((ccu_data[c]>7500)&(ccu_data[c]<=10000)),Range]=4\n",
    "ccu_data.loc[((ccu_data[c]>10000)&(ccu_data[c]<=12500)),Range]=5  \n",
    "ccu_data.loc[((ccu_data[c]>12500)&(ccu_data[c]<=15000)),Range]=6\n",
    "ccu_data.loc[((ccu_data[c]>15000)&(ccu_data[c]<=17500)),Range]=7\n",
    "ccu_data.loc[((ccu_data[c]>17500)&(ccu_data[c]<=20000)),Range]=8\n",
    "ccu_data.loc[((ccu_data[c]>20000)),Range]=9\n",
    "\n",
    "\n",
    "c = 'NUM_TRANS'\n",
    "Range=c + '_RANGE'\n",
    "ccu_data[Range]=0        \n",
    "ccu_data.loc[((ccu_data[c]>0)&(ccu_data[c]<=100)),Range]=1\n",
    "ccu_data.loc[((ccu_data[c]>100)&(ccu_data[c]<=200)),Range]=2\n",
    "ccu_data.loc[((ccu_data[c]>200)&(ccu_data[c]<=300)),Range]=3\n",
    "ccu_data.loc[((ccu_data[c]>300)&(ccu_data[c]<=400)),Range]=4\n",
    "ccu_data.loc[((ccu_data[c]>400)&(ccu_data[c]<=500)),Range]=5  \n",
    "ccu_data.loc[((ccu_data[c]>500)&(ccu_data[c]<=600)),Range]=6\n",
    "ccu_data.loc[((ccu_data[c]>600)),Range]=7\n",
    "\n",
    "columns=['ACCESSORIES', 'APPLIANCES', 'CULTURE', 'GAS', 'BOOKS', 'APPAREL',\n",
    "        'FITNESS', 'EDUCATION', 'ENTERTAINMENT', 'FOOD', 'HEALTH', 'HOME_GARDEN', 'TELCOS', 'TRAVEL']\n",
    "\n",
    "for c in columns:\n",
    "    \n",
    "    Range=c+'_RANGE'\n",
    "    ccu_data[Range]=0\n",
    "    ccu_data.loc[((ccu_data[c]>0)&(ccu_data[c]<=10000)),Range]=1\n",
    "    ccu_data.loc[((ccu_data[c]>10000)&(ccu_data[c]<=20000)),Range]=2\n",
    "    ccu_data.loc[((ccu_data[c]>20000)&(ccu_data[c]<=30000)),Range]=3\n",
    "    ccu_data.loc[((ccu_data[c]>30000)&(ccu_data[c]<=40000)),Range]=4\n",
    "    ccu_data.loc[((ccu_data[c]>40000)),Range]=5\n",
    "    \n",
    "\n",
    "c = 'PURCHASES_AMOUNT'\n",
    "Range=c + '_RANGE'\n",
    "ccu_data[Range]=0        \n",
    "ccu_data.loc[((ccu_data[c]>0)&(ccu_data[c]<=10000)),Range]=1\n",
    "ccu_data.loc[((ccu_data[c]>20000)&(ccu_data[c]<=200)),Range]=2\n",
    "ccu_data.loc[((ccu_data[c]>200)&(ccu_data[c]<=300)),Range]=3\n",
    "ccu_data.loc[((ccu_data[c]>300)&(ccu_data[c]<=400)),Range]=4\n",
    "ccu_data.loc[((ccu_data[c]>400)&(ccu_data[c]<=500)),Range]=5  \n",
    "ccu_data.loc[((ccu_data[c]>500)&(ccu_data[c]<=600)),Range]=6\n",
    "ccu_data.loc[((ccu_data[c]>600)),Range]=7\n",
    "\n",
    "ccu_data.drop(['AVG_BALANCE', 'NUM_TRANS', 'ACCESSORIES', 'APPLIANCES', \n",
    "           'CULTURE', 'GAS', 'BOOKS', 'APPAREL','FITNESS', 'EDUCATION', \n",
    "           'ENTERTAINMENT', 'FOOD', 'HEALTH', 'HOME_GARDEN', 'TELCOS', \n",
    "           'TRAVEL', 'PURCHASES_AMOUNT' ], axis=1, inplace=True)"
   ]
  },
  {
   "cell_type": "markdown",
   "metadata": {},
   "source": [
    "## Normal scaling"
   ]
  },
  {
   "cell_type": "code",
   "execution_count": 27,
   "metadata": {
    "scrolled": true
   },
   "outputs": [
    {
     "data": {
      "text/plain": [
       "(18971, 19)"
      ]
     },
     "execution_count": 27,
     "metadata": {},
     "output_type": "execute_result"
    }
   ],
   "source": [
    "X= np.asarray(ccu_data)\n",
    "scale = StandardScaler()\n",
    "X = scale.fit_transform(X)\n",
    "X.shape"
   ]
  },
  {
   "cell_type": "markdown",
   "metadata": {},
   "source": [
    "## Parameter tuning using sse and elbow criteria"
   ]
  },
  {
   "cell_type": "code",
   "execution_count": 28,
   "metadata": {},
   "outputs": [],
   "source": [
    "n_clusters=30\n",
    "cost=[]\n",
    "sil=[]\n",
    "for i in range(2,n_clusters):\n",
    "    kmean= KMeans(i)\n",
    "    kmean.fit(X)\n",
    "    # sse\n",
    "    cost.append(kmean.inertia_)\n",
    "    # silouhaite\n",
    "    #print(np.unique(kmean.labels_))\n",
    "    sil.append(silhouette_score(X, kmean.labels_, metric='euclidean')) "
   ]
  },
  {
   "cell_type": "code",
   "execution_count": 29,
   "metadata": {},
   "outputs": [
    {
     "data": {
      "text/plain": [
       "[<matplotlib.lines.Line2D at 0x28b66ebccc8>]"
      ]
     },
     "execution_count": 29,
     "metadata": {},
     "output_type": "execute_result"
    },
    {
     "data": {
      "image/png": "[encoded data removed]",
      "text/plain": [
       "<Figure size 432x288 with 1 Axes>"
      ]
     },
     "metadata": {
      "needs_background": "light"
     },
     "output_type": "display_data"
    }
   ],
   "source": [
    "plt.plot(sil, 'bx-', ,color = '#C93838')"
   ]
  },
  {
   "cell_type": "code",
   "execution_count": 26,
   "metadata": {
    "scrolled": true
   },
   "outputs": [
    {
     "data": {
      "text/plain": [
       "[<matplotlib.lines.Line2D at 0x1c64729d588>]"
      ]
     },
     "execution_count": 26,
     "metadata": {},
     "output_type": "execute_result"
    },
    {
     "data": {
      "image/png": "[encoded data removed]",
      "text/plain": [
       "<Figure size 432x288 with 1 Axes>"
      ]
     },
     "metadata": {
      "needs_background": "light"
     },
     "output_type": "display_data"
    }
   ],
   "source": [
    "plt.plot(cost, 'bx-')"
   ]
  },
  {
   "cell_type": "markdown",
   "metadata": {},
   "source": [
    "## Kmeans with K=5"
   ]
  },
  {
   "cell_type": "code",
   "execution_count": 21,
   "metadata": {},
   "outputs": [],
   "source": [
    "kmean= KMeans(7)\n",
    "kmean.fit(X)\n",
    "labels=kmean.labels_"
   ]
  },
  {
   "cell_type": "markdown",
   "metadata": {},
   "source": [
    "## Interpretation of Clusters"
   ]
  },
  {
   "cell_type": "code",
   "execution_count": 22,
   "metadata": {},
   "outputs": [
    {
     "data": {
      "text/html": [
       "<div>\n",
       "<style scoped>\n",
       "    .dataframe tbody tr th:only-of-type {\n",
       "        vertical-align: middle;\n",
       "    }\n",
       "\n",
       "    .dataframe tbody tr th {\n",
       "        vertical-align: top;\n",
       "    }\n",
       "\n",
       "    .dataframe thead th {\n",
       "        text-align: right;\n",
       "    }\n",
       "</style>\n",
       "<table border=\"1\" class=\"dataframe\">\n",
       "  <thead>\n",
       "    <tr style=\"text-align: right;\">\n",
       "      <th></th>\n",
       "      <th>TENURE</th>\n",
       "      <th>Loyalty</th>\n",
       "      <th>AVG_BALANCE_RANGE</th>\n",
       "      <th>NUM_TRANS_RANGE</th>\n",
       "      <th>ACCESSORIES_RANGE</th>\n",
       "      <th>APPLIANCES_RANGE</th>\n",
       "      <th>CULTURE_RANGE</th>\n",
       "      <th>GAS_RANGE</th>\n",
       "      <th>BOOKS_RANGE</th>\n",
       "      <th>APPAREL_RANGE</th>\n",
       "      <th>FITNESS_RANGE</th>\n",
       "      <th>EDUCATION_RANGE</th>\n",
       "      <th>ENTERTAINMENT_RANGE</th>\n",
       "      <th>FOOD_RANGE</th>\n",
       "      <th>HEALTH_RANGE</th>\n",
       "      <th>HOME_GARDEN_RANGE</th>\n",
       "      <th>TELCOS_RANGE</th>\n",
       "      <th>TRAVEL_RANGE</th>\n",
       "      <th>PURCHASES_AMOUNT_RANGE</th>\n",
       "      <th>cluster</th>\n",
       "    </tr>\n",
       "  </thead>\n",
       "  <tbody>\n",
       "    <tr>\n",
       "      <td>0</td>\n",
       "      <td>12</td>\n",
       "      <td>1</td>\n",
       "      <td>2</td>\n",
       "      <td>1</td>\n",
       "      <td>0</td>\n",
       "      <td>1</td>\n",
       "      <td>0</td>\n",
       "      <td>0</td>\n",
       "      <td>0</td>\n",
       "      <td>0</td>\n",
       "      <td>0</td>\n",
       "      <td>0</td>\n",
       "      <td>0</td>\n",
       "      <td>0</td>\n",
       "      <td>0</td>\n",
       "      <td>0</td>\n",
       "      <td>0</td>\n",
       "      <td>0</td>\n",
       "      <td>7</td>\n",
       "      <td>4</td>\n",
       "    </tr>\n",
       "    <tr>\n",
       "      <td>1</td>\n",
       "      <td>12</td>\n",
       "      <td>0</td>\n",
       "      <td>1</td>\n",
       "      <td>1</td>\n",
       "      <td>0</td>\n",
       "      <td>1</td>\n",
       "      <td>0</td>\n",
       "      <td>0</td>\n",
       "      <td>0</td>\n",
       "      <td>0</td>\n",
       "      <td>0</td>\n",
       "      <td>0</td>\n",
       "      <td>0</td>\n",
       "      <td>0</td>\n",
       "      <td>0</td>\n",
       "      <td>0</td>\n",
       "      <td>0</td>\n",
       "      <td>0</td>\n",
       "      <td>7</td>\n",
       "      <td>4</td>\n",
       "    </tr>\n",
       "    <tr>\n",
       "      <td>2</td>\n",
       "      <td>12</td>\n",
       "      <td>0</td>\n",
       "      <td>1</td>\n",
       "      <td>1</td>\n",
       "      <td>0</td>\n",
       "      <td>0</td>\n",
       "      <td>0</td>\n",
       "      <td>1</td>\n",
       "      <td>0</td>\n",
       "      <td>1</td>\n",
       "      <td>0</td>\n",
       "      <td>0</td>\n",
       "      <td>0</td>\n",
       "      <td>0</td>\n",
       "      <td>0</td>\n",
       "      <td>0</td>\n",
       "      <td>0</td>\n",
       "      <td>0</td>\n",
       "      <td>7</td>\n",
       "      <td>4</td>\n",
       "    </tr>\n",
       "    <tr>\n",
       "      <td>3</td>\n",
       "      <td>12</td>\n",
       "      <td>0</td>\n",
       "      <td>2</td>\n",
       "      <td>0</td>\n",
       "      <td>0</td>\n",
       "      <td>0</td>\n",
       "      <td>0</td>\n",
       "      <td>0</td>\n",
       "      <td>0</td>\n",
       "      <td>0</td>\n",
       "      <td>0</td>\n",
       "      <td>0</td>\n",
       "      <td>0</td>\n",
       "      <td>0</td>\n",
       "      <td>0</td>\n",
       "      <td>0</td>\n",
       "      <td>0</td>\n",
       "      <td>0</td>\n",
       "      <td>0</td>\n",
       "      <td>0</td>\n",
       "    </tr>\n",
       "    <tr>\n",
       "      <td>4</td>\n",
       "      <td>7</td>\n",
       "      <td>0</td>\n",
       "      <td>1</td>\n",
       "      <td>1</td>\n",
       "      <td>0</td>\n",
       "      <td>1</td>\n",
       "      <td>0</td>\n",
       "      <td>1</td>\n",
       "      <td>0</td>\n",
       "      <td>0</td>\n",
       "      <td>0</td>\n",
       "      <td>0</td>\n",
       "      <td>0</td>\n",
       "      <td>1</td>\n",
       "      <td>1</td>\n",
       "      <td>1</td>\n",
       "      <td>0</td>\n",
       "      <td>0</td>\n",
       "      <td>7</td>\n",
       "      <td>4</td>\n",
       "    </tr>\n",
       "  </tbody>\n",
       "</table>\n",
       "</div>"
      ],
      "text/plain": [
       "   TENURE  Loyalty  AVG_BALANCE_RANGE  NUM_TRANS_RANGE  ACCESSORIES_RANGE  \\\n",
       "0      12        1                  2                1                  0   \n",
       "1      12        0                  1                1                  0   \n",
       "2      12        0                  1                1                  0   \n",
       "3      12        0                  2                0                  0   \n",
       "4       7        0                  1                1                  0   \n",
       "\n",
       "   APPLIANCES_RANGE  CULTURE_RANGE  GAS_RANGE  BOOKS_RANGE  APPAREL_RANGE  \\\n",
       "0                 1              0          0            0              0   \n",
       "1                 1              0          0            0              0   \n",
       "2                 0              0          1            0              1   \n",
       "3                 0              0          0            0              0   \n",
       "4                 1              0          1            0              0   \n",
       "\n",
       "   FITNESS_RANGE  EDUCATION_RANGE  ENTERTAINMENT_RANGE  FOOD_RANGE  \\\n",
       "0              0                0                    0           0   \n",
       "1              0                0                    0           0   \n",
       "2              0                0                    0           0   \n",
       "3              0                0                    0           0   \n",
       "4              0                0                    0           1   \n",
       "\n",
       "   HEALTH_RANGE  HOME_GARDEN_RANGE  TELCOS_RANGE  TRAVEL_RANGE  \\\n",
       "0             0                  0             0             0   \n",
       "1             0                  0             0             0   \n",
       "2             0                  0             0             0   \n",
       "3             0                  0             0             0   \n",
       "4             1                  1             0             0   \n",
       "\n",
       "   PURCHASES_AMOUNT_RANGE  cluster  \n",
       "0                       7        4  \n",
       "1                       7        4  \n",
       "2                       7        4  \n",
       "3                       0        0  \n",
       "4                       7        4  "
      ]
     },
     "execution_count": 22,
     "metadata": {},
     "output_type": "execute_result"
    }
   ],
   "source": [
    "clusters=pd.concat([ccu_data, pd.DataFrame({'cluster':labels})], axis=1)\n",
    "clusters.dropna(inplace = True)\n",
    "clusters.head()"
   ]
  },
  {
   "cell_type": "code",
   "execution_count": 23,
   "metadata": {},
   "outputs": [
    {
     "data": {
      "text/html": [
       "<div>\n",
       "<style scoped>\n",
       "    .dataframe tbody tr th:only-of-type {\n",
       "        vertical-align: middle;\n",
       "    }\n",
       "\n",
       "    .dataframe tbody tr th {\n",
       "        vertical-align: top;\n",
       "    }\n",
       "\n",
       "    .dataframe thead th {\n",
       "        text-align: right;\n",
       "    }\n",
       "</style>\n",
       "<table border=\"1\" class=\"dataframe\">\n",
       "  <thead>\n",
       "    <tr style=\"text-align: right;\">\n",
       "      <th></th>\n",
       "      <th>TENURE</th>\n",
       "      <th>Loyalty</th>\n",
       "      <th>AVG_BALANCE_RANGE</th>\n",
       "      <th>NUM_TRANS_RANGE</th>\n",
       "      <th>ACCESSORIES_RANGE</th>\n",
       "      <th>APPLIANCES_RANGE</th>\n",
       "      <th>CULTURE_RANGE</th>\n",
       "      <th>GAS_RANGE</th>\n",
       "      <th>BOOKS_RANGE</th>\n",
       "      <th>APPAREL_RANGE</th>\n",
       "      <th>FITNESS_RANGE</th>\n",
       "      <th>EDUCATION_RANGE</th>\n",
       "      <th>ENTERTAINMENT_RANGE</th>\n",
       "      <th>FOOD_RANGE</th>\n",
       "      <th>HEALTH_RANGE</th>\n",
       "      <th>HOME_GARDEN_RANGE</th>\n",
       "      <th>TELCOS_RANGE</th>\n",
       "      <th>TRAVEL_RANGE</th>\n",
       "      <th>PURCHASES_AMOUNT_RANGE</th>\n",
       "    </tr>\n",
       "    <tr>\n",
       "      <th>cluster</th>\n",
       "      <th></th>\n",
       "      <th></th>\n",
       "      <th></th>\n",
       "      <th></th>\n",
       "      <th></th>\n",
       "      <th></th>\n",
       "      <th></th>\n",
       "      <th></th>\n",
       "      <th></th>\n",
       "      <th></th>\n",
       "      <th></th>\n",
       "      <th></th>\n",
       "      <th></th>\n",
       "      <th></th>\n",
       "      <th></th>\n",
       "      <th></th>\n",
       "      <th></th>\n",
       "      <th></th>\n",
       "      <th></th>\n",
       "    </tr>\n",
       "  </thead>\n",
       "  <tbody>\n",
       "    <tr>\n",
       "      <td>0</td>\n",
       "      <td>11.245055</td>\n",
       "      <td>0.000000</td>\n",
       "      <td>1.620035</td>\n",
       "      <td>0.022994</td>\n",
       "      <td>0.000643</td>\n",
       "      <td>0.000161</td>\n",
       "      <td>0.000000</td>\n",
       "      <td>0.000161</td>\n",
       "      <td>0.000161</td>\n",
       "      <td>0.000322</td>\n",
       "      <td>0.0</td>\n",
       "      <td>0.000000</td>\n",
       "      <td>0.000000</td>\n",
       "      <td>0.001126</td>\n",
       "      <td>0.000643</td>\n",
       "      <td>0.000804</td>\n",
       "      <td>0.000000</td>\n",
       "      <td>0.000161</td>\n",
       "      <td>0.004181</td>\n",
       "    </tr>\n",
       "    <tr>\n",
       "      <td>1</td>\n",
       "      <td>11.642824</td>\n",
       "      <td>0.502118</td>\n",
       "      <td>1.434353</td>\n",
       "      <td>1.071529</td>\n",
       "      <td>0.563294</td>\n",
       "      <td>0.500235</td>\n",
       "      <td>0.000000</td>\n",
       "      <td>0.300235</td>\n",
       "      <td>0.000471</td>\n",
       "      <td>0.780235</td>\n",
       "      <td>0.0</td>\n",
       "      <td>0.023529</td>\n",
       "      <td>0.311059</td>\n",
       "      <td>0.414118</td>\n",
       "      <td>0.288000</td>\n",
       "      <td>0.342118</td>\n",
       "      <td>0.322824</td>\n",
       "      <td>0.996706</td>\n",
       "      <td>6.950118</td>\n",
       "    </tr>\n",
       "    <tr>\n",
       "      <td>2</td>\n",
       "      <td>11.602899</td>\n",
       "      <td>0.582609</td>\n",
       "      <td>1.565217</td>\n",
       "      <td>1.200000</td>\n",
       "      <td>0.800000</td>\n",
       "      <td>0.530435</td>\n",
       "      <td>1.000000</td>\n",
       "      <td>0.246377</td>\n",
       "      <td>0.339130</td>\n",
       "      <td>0.924638</td>\n",
       "      <td>0.0</td>\n",
       "      <td>0.028986</td>\n",
       "      <td>0.313043</td>\n",
       "      <td>0.533333</td>\n",
       "      <td>0.405797</td>\n",
       "      <td>0.573913</td>\n",
       "      <td>0.286957</td>\n",
       "      <td>0.385507</td>\n",
       "      <td>6.962319</td>\n",
       "    </tr>\n",
       "    <tr>\n",
       "      <td>3</td>\n",
       "      <td>11.668413</td>\n",
       "      <td>0.566617</td>\n",
       "      <td>1.467066</td>\n",
       "      <td>1.116018</td>\n",
       "      <td>0.696856</td>\n",
       "      <td>0.585329</td>\n",
       "      <td>0.000000</td>\n",
       "      <td>0.311377</td>\n",
       "      <td>1.005240</td>\n",
       "      <td>0.859281</td>\n",
       "      <td>0.0</td>\n",
       "      <td>0.042665</td>\n",
       "      <td>0.367515</td>\n",
       "      <td>0.559132</td>\n",
       "      <td>0.380988</td>\n",
       "      <td>0.464072</td>\n",
       "      <td>0.321108</td>\n",
       "      <td>0.455838</td>\n",
       "      <td>6.934132</td>\n",
       "    </tr>\n",
       "    <tr>\n",
       "      <td>4</td>\n",
       "      <td>11.276920</td>\n",
       "      <td>0.334337</td>\n",
       "      <td>1.469503</td>\n",
       "      <td>1.010166</td>\n",
       "      <td>0.056852</td>\n",
       "      <td>0.390060</td>\n",
       "      <td>0.000000</td>\n",
       "      <td>0.143449</td>\n",
       "      <td>0.005836</td>\n",
       "      <td>0.330949</td>\n",
       "      <td>0.0</td>\n",
       "      <td>0.003953</td>\n",
       "      <td>0.081514</td>\n",
       "      <td>0.169239</td>\n",
       "      <td>0.112575</td>\n",
       "      <td>0.127259</td>\n",
       "      <td>0.223080</td>\n",
       "      <td>0.041980</td>\n",
       "      <td>6.829443</td>\n",
       "    </tr>\n",
       "    <tr>\n",
       "      <td>5</td>\n",
       "      <td>11.473952</td>\n",
       "      <td>0.365269</td>\n",
       "      <td>1.467665</td>\n",
       "      <td>1.043413</td>\n",
       "      <td>0.918263</td>\n",
       "      <td>0.421557</td>\n",
       "      <td>0.000000</td>\n",
       "      <td>0.161377</td>\n",
       "      <td>0.000000</td>\n",
       "      <td>0.927545</td>\n",
       "      <td>0.0</td>\n",
       "      <td>0.003892</td>\n",
       "      <td>0.111078</td>\n",
       "      <td>0.461078</td>\n",
       "      <td>0.311078</td>\n",
       "      <td>0.374551</td>\n",
       "      <td>0.191018</td>\n",
       "      <td>0.000000</td>\n",
       "      <td>6.909880</td>\n",
       "    </tr>\n",
       "    <tr>\n",
       "      <td>6</td>\n",
       "      <td>11.612245</td>\n",
       "      <td>0.455782</td>\n",
       "      <td>1.299320</td>\n",
       "      <td>1.136054</td>\n",
       "      <td>0.547619</td>\n",
       "      <td>0.697279</td>\n",
       "      <td>0.064626</td>\n",
       "      <td>0.285714</td>\n",
       "      <td>0.346939</td>\n",
       "      <td>0.693878</td>\n",
       "      <td>1.0</td>\n",
       "      <td>0.071429</td>\n",
       "      <td>0.431973</td>\n",
       "      <td>0.384354</td>\n",
       "      <td>0.261905</td>\n",
       "      <td>0.380952</td>\n",
       "      <td>0.476190</td>\n",
       "      <td>0.530612</td>\n",
       "      <td>6.646259</td>\n",
       "    </tr>\n",
       "  </tbody>\n",
       "</table>\n",
       "</div>"
      ],
      "text/plain": [
       "            TENURE   Loyalty  AVG_BALANCE_RANGE  NUM_TRANS_RANGE  \\\n",
       "cluster                                                            \n",
       "0        11.245055  0.000000           1.620035         0.022994   \n",
       "1        11.642824  0.502118           1.434353         1.071529   \n",
       "2        11.602899  0.582609           1.565217         1.200000   \n",
       "3        11.668413  0.566617           1.467066         1.116018   \n",
       "4        11.276920  0.334337           1.469503         1.010166   \n",
       "5        11.473952  0.365269           1.467665         1.043413   \n",
       "6        11.612245  0.455782           1.299320         1.136054   \n",
       "\n",
       "         ACCESSORIES_RANGE  APPLIANCES_RANGE  CULTURE_RANGE  GAS_RANGE  \\\n",
       "cluster                                                                  \n",
       "0                 0.000643          0.000161       0.000000   0.000161   \n",
       "1                 0.563294          0.500235       0.000000   0.300235   \n",
       "2                 0.800000          0.530435       1.000000   0.246377   \n",
       "3                 0.696856          0.585329       0.000000   0.311377   \n",
       "4                 0.056852          0.390060       0.000000   0.143449   \n",
       "5                 0.918263          0.421557       0.000000   0.161377   \n",
       "6                 0.547619          0.697279       0.064626   0.285714   \n",
       "\n",
       "         BOOKS_RANGE  APPAREL_RANGE  FITNESS_RANGE  EDUCATION_RANGE  \\\n",
       "cluster                                                               \n",
       "0           0.000161       0.000322            0.0         0.000000   \n",
       "1           0.000471       0.780235            0.0         0.023529   \n",
       "2           0.339130       0.924638            0.0         0.028986   \n",
       "3           1.005240       0.859281            0.0         0.042665   \n",
       "4           0.005836       0.330949            0.0         0.003953   \n",
       "5           0.000000       0.927545            0.0         0.003892   \n",
       "6           0.346939       0.693878            1.0         0.071429   \n",
       "\n",
       "         ENTERTAINMENT_RANGE  FOOD_RANGE  HEALTH_RANGE  HOME_GARDEN_RANGE  \\\n",
       "cluster                                                                     \n",
       "0                   0.000000    0.001126      0.000643           0.000804   \n",
       "1                   0.311059    0.414118      0.288000           0.342118   \n",
       "2                   0.313043    0.533333      0.405797           0.573913   \n",
       "3                   0.367515    0.559132      0.380988           0.464072   \n",
       "4                   0.081514    0.169239      0.112575           0.127259   \n",
       "5                   0.111078    0.461078      0.311078           0.374551   \n",
       "6                   0.431973    0.384354      0.261905           0.380952   \n",
       "\n",
       "         TELCOS_RANGE  TRAVEL_RANGE  PURCHASES_AMOUNT_RANGE  \n",
       "cluster                                                      \n",
       "0            0.000000      0.000161                0.004181  \n",
       "1            0.322824      0.996706                6.950118  \n",
       "2            0.286957      0.385507                6.962319  \n",
       "3            0.321108      0.455838                6.934132  \n",
       "4            0.223080      0.041980                6.829443  \n",
       "5            0.191018      0.000000                6.909880  \n",
       "6            0.476190      0.530612                6.646259  "
      ]
     },
     "execution_count": 23,
     "metadata": {},
     "output_type": "execute_result"
    }
   ],
   "source": [
    "clusters.groupby('cluster').mean()"
   ]
  },
  {
   "cell_type": "code",
   "execution_count": 16,
   "metadata": {},
   "outputs": [
    {
     "data": {
      "image/png": "[encoded data removed]",
      "text/plain": [
       "<Figure size 1080x216 with 5 Axes>"
      ]
     },
     "metadata": {
      "needs_background": "light"
     },
     "output_type": "display_data"
    },
    {
     "data": {
      "image/png": "[encoded data removed]",
      "text/plain": [
       "<Figure size 1080x216 with 5 Axes>"
      ]
     },
     "metadata": {
      "needs_background": "light"
     },
     "output_type": "display_data"
    },
    {
     "data": {
      "image/png": "[encoded data removed]",
      "text/plain": [
       "<Figure size 1080x216 with 5 Axes>"
      ]
     },
     "metadata": {
      "needs_background": "light"
     },
     "output_type": "display_data"
    },
    {
     "data": {
      "image/png": "[encoded data removed]",
      "text/plain": [
       "<Figure size 1080x216 with 5 Axes>"
      ]
     },
     "metadata": {
      "needs_background": "light"
     },
     "output_type": "display_data"
    },
    {
     "data": {
      "image/png": "[encoded data removed]",
      "text/plain": [
       "<Figure size 1080x216 with 5 Axes>"
      ]
     },
     "metadata": {
      "needs_background": "light"
     },
     "output_type": "display_data"
    },
    {
     "data": {
      "image/png": "[encoded data removed]",
      "text/plain": [
       "<Figure size 1080x216 with 5 Axes>"
      ]
     },
     "metadata": {
      "needs_background": "light"
     },
     "output_type": "display_data"
    },
    {
     "data": {
      "image/png": "[encoded data removed]",
      "text/plain": [
       "<Figure size 1080x216 with 5 Axes>"
      ]
     },
     "metadata": {
      "needs_background": "light"
     },
     "output_type": "display_data"
    },
    {
     "data": {
      "image/png": "[encoded data removed]",
      "text/plain": [
       "<Figure size 1080x216 with 5 Axes>"
      ]
     },
     "metadata": {
      "needs_background": "light"
     },
     "output_type": "display_data"
    },
    {
     "data": {
      "image/png": "[encoded data removed]",
      "text/plain": [
       "<Figure size 1080x216 with 5 Axes>"
      ]
     },
     "metadata": {
      "needs_background": "light"
     },
     "output_type": "display_data"
    },
    {
     "data": {
      "image/png": "[encoded data removed]",
      "text/plain": [
       "<Figure size 1080x216 with 5 Axes>"
      ]
     },
     "metadata": {
      "needs_background": "light"
     },
     "output_type": "display_data"
    },
    {
     "data": {
      "image/png": "[encoded data removed]",
      "text/plain": [
       "<Figure size 1080x216 with 5 Axes>"
      ]
     },
     "metadata": {
      "needs_background": "light"
     },
     "output_type": "display_data"
    },
    {
     "data": {
      "image/png": "[encoded data removed]",
      "text/plain": [
       "<Figure size 1080x216 with 5 Axes>"
      ]
     },
     "metadata": {
      "needs_background": "light"
     },
     "output_type": "display_data"
    },
    {
     "data": {
      "image/png": "[encoded data removed]",
      "text/plain": [
       "<Figure size 1080x216 with 5 Axes>"
      ]
     },
     "metadata": {
      "needs_background": "light"
     },
     "output_type": "display_data"
    },
    {
     "data": {
      "image/png": "[encoded data removed]",
      "text/plain": [
       "<Figure size 1080x216 with 5 Axes>"
      ]
     },
     "metadata": {
      "needs_background": "light"
     },
     "output_type": "display_data"
    },
    {
     "data": {
      "image/png": "[encoded data removed]",
      "text/plain": [
       "<Figure size 1080x216 with 5 Axes>"
      ]
     },
     "metadata": {
      "needs_background": "light"
     },
     "output_type": "display_data"
    },
    {
     "data": {
      "image/png": "[encoded data removed]",
      "text/plain": [
       "<Figure size 1080x216 with 5 Axes>"
      ]
     },
     "metadata": {
      "needs_background": "light"
     },
     "output_type": "display_data"
    },
    {
     "data": {
      "image/png": "[encoded data removed]",
      "text/plain": [
       "<Figure size 1080x216 with 5 Axes>"
      ]
     },
     "metadata": {
      "needs_background": "light"
     },
     "output_type": "display_data"
    },
    {
     "data": {
      "image/png": "[encoded data removed]",
      "text/plain": [
       "<Figure size 1080x216 with 5 Axes>"
      ]
     },
     "metadata": {
      "needs_background": "light"
     },
     "output_type": "display_data"
    },
    {
     "data": {
      "image/png": "[encoded data removed]",
      "text/plain": [
       "<Figure size 1080x216 with 5 Axes>"
      ]
     },
     "metadata": {
      "needs_background": "light"
     },
     "output_type": "display_data"
    },
    {
     "data": {
      "image/png": "[encoded data removed]",
      "text/plain": [
       "<Figure size 1080x216 with 5 Axes>"
      ]
     },
     "metadata": {
      "needs_background": "light"
     },
     "output_type": "display_data"
    }
   ],
   "source": [
    "for c in clusters:\n",
    "    grid= sns.FacetGrid(clusters, col='cluster')\n",
    "    grid.map(plt.hist, c)"
   ]
  },
  {
   "cell_type": "code",
   "execution_count": 18,
   "metadata": {},
   "outputs": [
    {
     "data": {
      "text/plain": [
       "(18971, 19)"
      ]
     },
     "execution_count": 18,
     "metadata": {},
     "output_type": "execute_result"
    }
   ],
   "source": [
    "X.shape"
   ]
  },
  {
   "cell_type": "markdown",
   "metadata": {},
   "source": [
    " "
   ]
  },
  {
   "cell_type": "markdown",
   "metadata": {},
   "source": [
    " "
   ]
  },
  {
   "cell_type": "markdown",
   "metadata": {},
   "source": [
    " "
   ]
  },
  {
   "cell_type": "markdown",
   "metadata": {},
   "source": [
    " "
   ]
  },
  {
   "cell_type": "markdown",
   "metadata": {},
   "source": [
    " "
   ]
  },
  {
   "cell_type": "markdown",
   "metadata": {},
   "source": [
    " "
   ]
  },
  {
   "cell_type": "markdown",
   "metadata": {},
   "source": [
    " "
   ]
  },
  {
   "cell_type": "markdown",
   "metadata": {},
   "source": [
    " "
   ]
  },
  {
   "cell_type": "markdown",
   "metadata": {},
   "source": [
    " "
   ]
  },
  {
   "cell_type": "markdown",
   "metadata": {},
   "source": [
    " "
   ]
  },
  {
   "cell_type": "markdown",
   "metadata": {},
   "source": [
    " "
   ]
  },
  {
   "cell_type": "markdown",
   "metadata": {},
   "source": [
    " "
   ]
  },
  {
   "cell_type": "markdown",
   "metadata": {},
   "source": [
    " "
   ]
  },
  {
   "cell_type": "code",
   "execution_count": 17,
   "metadata": {},
   "outputs": [],
   "source": [
    "from sklearn.cluster import AgglomerativeClustering\n",
    "from sklearn.preprocessing import StandardScaler, normalize\n",
    "import scipy.cluster.hierarchy as shc\n",
    "from sklearn.metrics import silhouette_score"
   ]
  },
  {
   "cell_type": "code",
   "execution_count": 19,
   "metadata": {},
   "outputs": [],
   "source": [
    "ccu_data = pd.read_csv(\"CCUse.csv\")\n",
    "ccu_data.drop(['CUST_ID', 'Unnamed: 20', 'Unnamed: 21', 'Unnamed: 22'], axis=1, inplace=True)\n",
    "ccu_data.dropna(inplace = True)"
   ]
  },
  {
   "cell_type": "code",
   "execution_count": 20,
   "metadata": {},
   "outputs": [
    {
     "data": {
      "image/png": "[encoded data removed]",
      "text/plain": [
       "<Figure size 432x432 with 1 Axes>"
      ]
     },
     "metadata": {
      "needs_background": "light"
     },
     "output_type": "display_data"
    }
   ],
   "source": [
    "scaler = StandardScaler() \n",
    "scaled_df = scaler.fit_transform(ccu_data)\n",
    "normalized_df = normalize(scaled_df)\n",
    "normalized_df = pd.DataFrame(normalized_df)\n",
    "\n",
    "plt.figure(figsize =(6, 6)) \n",
    "plt.title('Visualising the data') \n",
    "Dendrogram = shc.dendrogram((shc.linkage(normalized_df, method ='ward', metric= 'euclidean')))"
   ]
  },
  {
   "cell_type": "code",
   "execution_count": 21,
   "metadata": {},
   "outputs": [],
   "source": [
    "#silhouette_scores = [np.nan,np.nan] \n",
    "sil = []\n",
    "cost = []\n",
    "for n_cluster in range(2, 10):\n",
    "    sil.append(silhouette_score(normalized_df, AgglomerativeClustering(n_clusters = n_cluster).fit_predict(normalized_df)))\n",
    "    #cost.append(AgglomerativeClustering(n_clusters = n_cluster).fit_predict(normalized_df).inertia_)"
   ]
  },
  {
   "cell_type": "code",
   "execution_count": 22,
   "metadata": {},
   "outputs": [],
   "source": [
    "n_cluster = 10\n",
    "sil.append(silhouette_score(normalized_df, AgglomerativeClustering(n_clusters = n_cluster).fit_predict(normalized_df)))"
   ]
  },
  {
   "cell_type": "code",
   "execution_count": 23,
   "metadata": {},
   "outputs": [
    {
     "data": {
      "text/plain": [
       "[<matplotlib.lines.Line2D at 0x1da16e764c8>]"
      ]
     },
     "execution_count": 23,
     "metadata": {},
     "output_type": "execute_result"
    },
    {
     "data": {
      "image/png": "[encoded data removed]",
      "text/plain": [
       "<Figure size 432x288 with 1 Axes>"
      ]
     },
     "metadata": {
      "needs_background": "light"
     },
     "output_type": "display_data"
    }
   ],
   "source": [
    "plt.plot(np.arange(2,11), sil, 'bx-')"
   ]
  },
  {
   "cell_type": "code",
   "execution_count": 24,
   "metadata": {},
   "outputs": [
    {
     "data": {
      "text/html": [
       "<div>\n",
       "<style scoped>\n",
       "    .dataframe tbody tr th:only-of-type {\n",
       "        vertical-align: middle;\n",
       "    }\n",
       "\n",
       "    .dataframe tbody tr th {\n",
       "        vertical-align: top;\n",
       "    }\n",
       "\n",
       "    .dataframe thead th {\n",
       "        text-align: right;\n",
       "    }\n",
       "</style>\n",
       "<table border=\"1\" class=\"dataframe\">\n",
       "  <thead>\n",
       "    <tr style=\"text-align: right;\">\n",
       "      <th></th>\n",
       "      <th>AVG_BALANCE</th>\n",
       "      <th>TENURE</th>\n",
       "      <th>NUM_TRANS</th>\n",
       "      <th>ACCESSORIES</th>\n",
       "      <th>APPLIANCES</th>\n",
       "      <th>CULTURE</th>\n",
       "      <th>GAS</th>\n",
       "      <th>BOOKS</th>\n",
       "      <th>APPAREL</th>\n",
       "      <th>FITNESS</th>\n",
       "      <th>EDUCATION</th>\n",
       "      <th>ENTERTAINMENT</th>\n",
       "      <th>FOOD</th>\n",
       "      <th>HEALTH</th>\n",
       "      <th>HOME_GARDEN</th>\n",
       "      <th>TELCOS</th>\n",
       "      <th>TRAVEL</th>\n",
       "      <th>PURCHASES_AMOUNT</th>\n",
       "      <th>Loyalty</th>\n",
       "      <th>cluster</th>\n",
       "    </tr>\n",
       "  </thead>\n",
       "  <tbody>\n",
       "    <tr>\n",
       "      <td>0</td>\n",
       "      <td>3044.993177</td>\n",
       "      <td>12</td>\n",
       "      <td>11.006688</td>\n",
       "      <td>0.0</td>\n",
       "      <td>2168.506639</td>\n",
       "      <td>0.0</td>\n",
       "      <td>0.000000</td>\n",
       "      <td>0.0</td>\n",
       "      <td>0.000000</td>\n",
       "      <td>0.0</td>\n",
       "      <td>0.0</td>\n",
       "      <td>0.0</td>\n",
       "      <td>0.00000</td>\n",
       "      <td>0.000000</td>\n",
       "      <td>0.000000</td>\n",
       "      <td>0.0</td>\n",
       "      <td>0.0</td>\n",
       "      <td>2168.506639</td>\n",
       "      <td>1</td>\n",
       "      <td>1</td>\n",
       "    </tr>\n",
       "    <tr>\n",
       "      <td>1</td>\n",
       "      <td>81.927748</td>\n",
       "      <td>12</td>\n",
       "      <td>0.985254</td>\n",
       "      <td>0.0</td>\n",
       "      <td>1779.354561</td>\n",
       "      <td>0.0</td>\n",
       "      <td>0.000000</td>\n",
       "      <td>0.0</td>\n",
       "      <td>0.000000</td>\n",
       "      <td>0.0</td>\n",
       "      <td>0.0</td>\n",
       "      <td>0.0</td>\n",
       "      <td>0.00000</td>\n",
       "      <td>0.000000</td>\n",
       "      <td>0.000000</td>\n",
       "      <td>0.0</td>\n",
       "      <td>0.0</td>\n",
       "      <td>1779.354561</td>\n",
       "      <td>0</td>\n",
       "      <td>2</td>\n",
       "    </tr>\n",
       "    <tr>\n",
       "      <td>2</td>\n",
       "      <td>1345.213562</td>\n",
       "      <td>12</td>\n",
       "      <td>2.830550</td>\n",
       "      <td>0.0</td>\n",
       "      <td>0.000000</td>\n",
       "      <td>0.0</td>\n",
       "      <td>163.266045</td>\n",
       "      <td>0.0</td>\n",
       "      <td>1590.748309</td>\n",
       "      <td>0.0</td>\n",
       "      <td>0.0</td>\n",
       "      <td>0.0</td>\n",
       "      <td>0.00000</td>\n",
       "      <td>0.000000</td>\n",
       "      <td>0.000000</td>\n",
       "      <td>0.0</td>\n",
       "      <td>0.0</td>\n",
       "      <td>1754.014354</td>\n",
       "      <td>0</td>\n",
       "      <td>2</td>\n",
       "    </tr>\n",
       "    <tr>\n",
       "      <td>3</td>\n",
       "      <td>3193.925166</td>\n",
       "      <td>12</td>\n",
       "      <td>0.000000</td>\n",
       "      <td>0.0</td>\n",
       "      <td>0.000000</td>\n",
       "      <td>0.0</td>\n",
       "      <td>0.000000</td>\n",
       "      <td>0.0</td>\n",
       "      <td>0.000000</td>\n",
       "      <td>0.0</td>\n",
       "      <td>0.0</td>\n",
       "      <td>0.0</td>\n",
       "      <td>0.00000</td>\n",
       "      <td>0.000000</td>\n",
       "      <td>0.000000</td>\n",
       "      <td>0.0</td>\n",
       "      <td>0.0</td>\n",
       "      <td>0.000000</td>\n",
       "      <td>0</td>\n",
       "      <td>4</td>\n",
       "    </tr>\n",
       "    <tr>\n",
       "      <td>4</td>\n",
       "      <td>284.286718</td>\n",
       "      <td>7</td>\n",
       "      <td>11.757291</td>\n",
       "      <td>0.0</td>\n",
       "      <td>189.991137</td>\n",
       "      <td>0.0</td>\n",
       "      <td>628.363089</td>\n",
       "      <td>0.0</td>\n",
       "      <td>0.000000</td>\n",
       "      <td>0.0</td>\n",
       "      <td>0.0</td>\n",
       "      <td>0.0</td>\n",
       "      <td>29.83154</td>\n",
       "      <td>58.269684</td>\n",
       "      <td>61.882977</td>\n",
       "      <td>0.0</td>\n",
       "      <td>0.0</td>\n",
       "      <td>968.338427</td>\n",
       "      <td>0</td>\n",
       "      <td>5</td>\n",
       "    </tr>\n",
       "  </tbody>\n",
       "</table>\n",
       "</div>"
      ],
      "text/plain": [
       "   AVG_BALANCE  TENURE  NUM_TRANS  ACCESSORIES   APPLIANCES  CULTURE  \\\n",
       "0  3044.993177      12  11.006688          0.0  2168.506639      0.0   \n",
       "1    81.927748      12   0.985254          0.0  1779.354561      0.0   \n",
       "2  1345.213562      12   2.830550          0.0     0.000000      0.0   \n",
       "3  3193.925166      12   0.000000          0.0     0.000000      0.0   \n",
       "4   284.286718       7  11.757291          0.0   189.991137      0.0   \n",
       "\n",
       "          GAS  BOOKS      APPAREL  FITNESS  EDUCATION  ENTERTAINMENT  \\\n",
       "0    0.000000    0.0     0.000000      0.0        0.0            0.0   \n",
       "1    0.000000    0.0     0.000000      0.0        0.0            0.0   \n",
       "2  163.266045    0.0  1590.748309      0.0        0.0            0.0   \n",
       "3    0.000000    0.0     0.000000      0.0        0.0            0.0   \n",
       "4  628.363089    0.0     0.000000      0.0        0.0            0.0   \n",
       "\n",
       "       FOOD     HEALTH  HOME_GARDEN  TELCOS  TRAVEL  PURCHASES_AMOUNT  \\\n",
       "0   0.00000   0.000000     0.000000     0.0     0.0       2168.506639   \n",
       "1   0.00000   0.000000     0.000000     0.0     0.0       1779.354561   \n",
       "2   0.00000   0.000000     0.000000     0.0     0.0       1754.014354   \n",
       "3   0.00000   0.000000     0.000000     0.0     0.0          0.000000   \n",
       "4  29.83154  58.269684    61.882977     0.0     0.0        968.338427   \n",
       "\n",
       "   Loyalty  cluster  \n",
       "0        1        1  \n",
       "1        0        2  \n",
       "2        0        2  \n",
       "3        0        4  \n",
       "4        0        5  "
      ]
     },
     "execution_count": 24,
     "metadata": {},
     "output_type": "execute_result"
    }
   ],
   "source": [
    "agg = AgglomerativeClustering(n_clusters = 6).fit_predict(normalized_df)\n",
    "clusters=pd.concat([ccu_data, pd.DataFrame({'cluster':agg})], axis=1)\n",
    "clusters.dropna(inplace = True)\n",
    "clusters.head()"
   ]
  },
  {
   "cell_type": "code",
   "execution_count": 26,
   "metadata": {},
   "outputs": [],
   "source": [
    "clusters_H=pd.concat([ccu_data, pd.DataFrame({'cluster':labels})], axis=1)\n",
    "clusters_H.dropna(inplace = True)\n",
    "clusters_H.to_csv(\"Hierach/data.csv\", index=False)"
   ]
  },
  {
   "cell_type": "code",
   "execution_count": 43,
   "metadata": {},
   "outputs": [
    {
     "data": {
      "text/html": [
       "<div>\n",
       "<style scoped>\n",
       "    .dataframe tbody tr th:only-of-type {\n",
       "        vertical-align: middle;\n",
       "    }\n",
       "\n",
       "    .dataframe tbody tr th {\n",
       "        vertical-align: top;\n",
       "    }\n",
       "\n",
       "    .dataframe thead th {\n",
       "        text-align: right;\n",
       "    }\n",
       "</style>\n",
       "<table border=\"1\" class=\"dataframe\">\n",
       "  <thead>\n",
       "    <tr style=\"text-align: right;\">\n",
       "      <th></th>\n",
       "      <th>AVG_BALANCE</th>\n",
       "      <th>TENURE</th>\n",
       "      <th>NUM_TRANS</th>\n",
       "      <th>ACCESSORIES</th>\n",
       "      <th>APPLIANCES</th>\n",
       "      <th>CULTURE</th>\n",
       "      <th>GAS</th>\n",
       "      <th>BOOKS</th>\n",
       "      <th>APPAREL</th>\n",
       "      <th>FITNESS</th>\n",
       "      <th>EDUCATION</th>\n",
       "      <th>ENTERTAINMENT</th>\n",
       "      <th>FOOD</th>\n",
       "      <th>HEALTH</th>\n",
       "      <th>HOME_GARDEN</th>\n",
       "      <th>TELCOS</th>\n",
       "      <th>TRAVEL</th>\n",
       "      <th>PURCHASES_AMOUNT</th>\n",
       "      <th>Loyalty</th>\n",
       "    </tr>\n",
       "    <tr>\n",
       "      <th>cluster</th>\n",
       "      <th></th>\n",
       "      <th></th>\n",
       "      <th></th>\n",
       "      <th></th>\n",
       "      <th></th>\n",
       "      <th></th>\n",
       "      <th></th>\n",
       "      <th></th>\n",
       "      <th></th>\n",
       "      <th></th>\n",
       "      <th></th>\n",
       "      <th></th>\n",
       "      <th></th>\n",
       "      <th></th>\n",
       "      <th></th>\n",
       "      <th></th>\n",
       "      <th></th>\n",
       "      <th></th>\n",
       "      <th></th>\n",
       "    </tr>\n",
       "  </thead>\n",
       "  <tbody>\n",
       "    <tr>\n",
       "      <td>0</td>\n",
       "      <td>1886.569473</td>\n",
       "      <td>11.944125</td>\n",
       "      <td>21.150570</td>\n",
       "      <td>106.619977</td>\n",
       "      <td>120.667500</td>\n",
       "      <td>0.844235</td>\n",
       "      <td>902.005173</td>\n",
       "      <td>18.397560</td>\n",
       "      <td>307.848989</td>\n",
       "      <td>0.966885</td>\n",
       "      <td>7.977174</td>\n",
       "      <td>55.488957</td>\n",
       "      <td>121.943225</td>\n",
       "      <td>948.409502</td>\n",
       "      <td>51.475775</td>\n",
       "      <td>79.102961</td>\n",
       "      <td>117.195517</td>\n",
       "      <td>2838.943428</td>\n",
       "      <td>0.457683</td>\n",
       "    </tr>\n",
       "    <tr>\n",
       "      <td>1</td>\n",
       "      <td>3032.702004</td>\n",
       "      <td>11.873913</td>\n",
       "      <td>38.464214</td>\n",
       "      <td>504.492322</td>\n",
       "      <td>565.955410</td>\n",
       "      <td>21.362066</td>\n",
       "      <td>123.983946</td>\n",
       "      <td>104.922073</td>\n",
       "      <td>1257.915820</td>\n",
       "      <td>10.464092</td>\n",
       "      <td>30.932387</td>\n",
       "      <td>379.608518</td>\n",
       "      <td>499.797124</td>\n",
       "      <td>82.692135</td>\n",
       "      <td>298.838543</td>\n",
       "      <td>409.995200</td>\n",
       "      <td>540.174513</td>\n",
       "      <td>4831.134147</td>\n",
       "      <td>0.951553</td>\n",
       "    </tr>\n",
       "    <tr>\n",
       "      <td>2</td>\n",
       "      <td>1039.206773</td>\n",
       "      <td>11.877396</td>\n",
       "      <td>25.229090</td>\n",
       "      <td>111.896992</td>\n",
       "      <td>156.203787</td>\n",
       "      <td>0.618562</td>\n",
       "      <td>13.700471</td>\n",
       "      <td>10.128889</td>\n",
       "      <td>320.031104</td>\n",
       "      <td>0.179784</td>\n",
       "      <td>1.475552</td>\n",
       "      <td>37.208460</td>\n",
       "      <td>104.962081</td>\n",
       "      <td>20.912498</td>\n",
       "      <td>131.207712</td>\n",
       "      <td>174.536748</td>\n",
       "      <td>94.726264</td>\n",
       "      <td>1177.788903</td>\n",
       "      <td>0.000223</td>\n",
       "    </tr>\n",
       "    <tr>\n",
       "      <td>3</td>\n",
       "      <td>5535.974924</td>\n",
       "      <td>11.697559</td>\n",
       "      <td>4.367328</td>\n",
       "      <td>28.802392</td>\n",
       "      <td>24.025993</td>\n",
       "      <td>0.454502</td>\n",
       "      <td>10.015870</td>\n",
       "      <td>1.857869</td>\n",
       "      <td>89.161116</td>\n",
       "      <td>0.006747</td>\n",
       "      <td>0.059324</td>\n",
       "      <td>6.734240</td>\n",
       "      <td>39.872074</td>\n",
       "      <td>4.851600</td>\n",
       "      <td>5.617771</td>\n",
       "      <td>29.860555</td>\n",
       "      <td>18.075540</td>\n",
       "      <td>259.395593</td>\n",
       "      <td>0.000000</td>\n",
       "    </tr>\n",
       "    <tr>\n",
       "      <td>4</td>\n",
       "      <td>1341.011867</td>\n",
       "      <td>12.000000</td>\n",
       "      <td>0.424480</td>\n",
       "      <td>2.288382</td>\n",
       "      <td>2.165334</td>\n",
       "      <td>0.000000</td>\n",
       "      <td>0.264217</td>\n",
       "      <td>0.401987</td>\n",
       "      <td>10.460492</td>\n",
       "      <td>0.005349</td>\n",
       "      <td>0.000000</td>\n",
       "      <td>0.525250</td>\n",
       "      <td>1.299622</td>\n",
       "      <td>0.517707</td>\n",
       "      <td>0.681654</td>\n",
       "      <td>0.576402</td>\n",
       "      <td>0.459696</td>\n",
       "      <td>19.646093</td>\n",
       "      <td>0.000000</td>\n",
       "    </tr>\n",
       "    <tr>\n",
       "      <td>5</td>\n",
       "      <td>1197.102839</td>\n",
       "      <td>8.351845</td>\n",
       "      <td>8.569493</td>\n",
       "      <td>75.908655</td>\n",
       "      <td>194.074191</td>\n",
       "      <td>0.388756</td>\n",
       "      <td>77.833706</td>\n",
       "      <td>9.188359</td>\n",
       "      <td>345.106850</td>\n",
       "      <td>0.438829</td>\n",
       "      <td>1.239331</td>\n",
       "      <td>51.008595</td>\n",
       "      <td>141.409642</td>\n",
       "      <td>97.954773</td>\n",
       "      <td>45.583340</td>\n",
       "      <td>27.666989</td>\n",
       "      <td>80.712528</td>\n",
       "      <td>1148.514545</td>\n",
       "      <td>0.000373</td>\n",
       "    </tr>\n",
       "  </tbody>\n",
       "</table>\n",
       "</div>"
      ],
      "text/plain": [
       "         AVG_BALANCE     TENURE  NUM_TRANS  ACCESSORIES  APPLIANCES  \\\n",
       "cluster                                                               \n",
       "0        1886.569473  11.944125  21.150570   106.619977  120.667500   \n",
       "1        3032.702004  11.873913  38.464214   504.492322  565.955410   \n",
       "2        1039.206773  11.877396  25.229090   111.896992  156.203787   \n",
       "3        5535.974924  11.697559   4.367328    28.802392   24.025993   \n",
       "4        1341.011867  12.000000   0.424480     2.288382    2.165334   \n",
       "5        1197.102839   8.351845   8.569493    75.908655  194.074191   \n",
       "\n",
       "           CULTURE         GAS       BOOKS      APPAREL    FITNESS  EDUCATION  \\\n",
       "cluster                                                                         \n",
       "0         0.844235  902.005173   18.397560   307.848989   0.966885   7.977174   \n",
       "1        21.362066  123.983946  104.922073  1257.915820  10.464092  30.932387   \n",
       "2         0.618562   13.700471   10.128889   320.031104   0.179784   1.475552   \n",
       "3         0.454502   10.015870    1.857869    89.161116   0.006747   0.059324   \n",
       "4         0.000000    0.264217    0.401987    10.460492   0.005349   0.000000   \n",
       "5         0.388756   77.833706    9.188359   345.106850   0.438829   1.239331   \n",
       "\n",
       "         ENTERTAINMENT        FOOD      HEALTH  HOME_GARDEN      TELCOS  \\\n",
       "cluster                                                                   \n",
       "0            55.488957  121.943225  948.409502    51.475775   79.102961   \n",
       "1           379.608518  499.797124   82.692135   298.838543  409.995200   \n",
       "2            37.208460  104.962081   20.912498   131.207712  174.536748   \n",
       "3             6.734240   39.872074    4.851600     5.617771   29.860555   \n",
       "4             0.525250    1.299622    0.517707     0.681654    0.576402   \n",
       "5            51.008595  141.409642   97.954773    45.583340   27.666989   \n",
       "\n",
       "             TRAVEL  PURCHASES_AMOUNT   Loyalty  \n",
       "cluster                                          \n",
       "0        117.195517       2838.943428  0.457683  \n",
       "1        540.174513       4831.134147  0.951553  \n",
       "2         94.726264       1177.788903  0.000223  \n",
       "3         18.075540        259.395593  0.000000  \n",
       "4          0.459696         19.646093  0.000000  \n",
       "5         80.712528       1148.514545  0.000373  "
      ]
     },
     "execution_count": 43,
     "metadata": {},
     "output_type": "execute_result"
    }
   ],
   "source": [
    "clusters.groupby('cluster').mean()"
   ]
  },
  {
   "cell_type": "markdown",
   "metadata": {},
   "source": [
    "     "
   ]
  },
  {
   "cell_type": "markdown",
   "metadata": {},
   "source": [
    "     "
   ]
  },
  {
   "cell_type": "markdown",
   "metadata": {},
   "source": [
    "     "
   ]
  },
  {
   "cell_type": "markdown",
   "metadata": {},
   "source": [
    "     "
   ]
  },
  {
   "cell_type": "markdown",
   "metadata": {},
   "source": [
    "      "
   ]
  },
  {
   "cell_type": "markdown",
   "metadata": {},
   "source": [
    "      "
   ]
  },
  {
   "cell_type": "markdown",
   "metadata": {},
   "source": [
    "      "
   ]
  },
  {
   "cell_type": "markdown",
   "metadata": {},
   "source": [
    "     "
   ]
  },
  {
   "cell_type": "markdown",
   "metadata": {},
   "source": [
    "      "
   ]
  },
  {
   "cell_type": "markdown",
   "metadata": {},
   "source": [
    "      "
   ]
  },
  {
   "cell_type": "markdown",
   "metadata": {},
   "source": [
    "        "
   ]
  },
  {
   "cell_type": "code",
   "execution_count": 27,
   "metadata": {},
   "outputs": [],
   "source": [
    "kmean= KMeans(800)\n",
    "kmean.fit(X)\n",
    "labels=kmean.labels_"
   ]
  },
  {
   "cell_type": "code",
   "execution_count": 28,
   "metadata": {},
   "outputs": [
    {
     "data": {
      "text/html": [
       "<div>\n",
       "<style scoped>\n",
       "    .dataframe tbody tr th:only-of-type {\n",
       "        vertical-align: middle;\n",
       "    }\n",
       "\n",
       "    .dataframe tbody tr th {\n",
       "        vertical-align: top;\n",
       "    }\n",
       "\n",
       "    .dataframe thead th {\n",
       "        text-align: right;\n",
       "    }\n",
       "</style>\n",
       "<table border=\"1\" class=\"dataframe\">\n",
       "  <thead>\n",
       "    <tr style=\"text-align: right;\">\n",
       "      <th></th>\n",
       "      <th>AVG_BALANCE</th>\n",
       "      <th>TENURE</th>\n",
       "      <th>NUM_TRANS</th>\n",
       "      <th>ACCESSORIES</th>\n",
       "      <th>APPLIANCES</th>\n",
       "      <th>CULTURE</th>\n",
       "      <th>GAS</th>\n",
       "      <th>BOOKS</th>\n",
       "      <th>APPAREL</th>\n",
       "      <th>FITNESS</th>\n",
       "      <th>EDUCATION</th>\n",
       "      <th>ENTERTAINMENT</th>\n",
       "      <th>FOOD</th>\n",
       "      <th>HEALTH</th>\n",
       "      <th>HOME_GARDEN</th>\n",
       "      <th>TELCOS</th>\n",
       "      <th>TRAVEL</th>\n",
       "      <th>PURCHASES_AMOUNT</th>\n",
       "      <th>Loyalty</th>\n",
       "      <th>cluster</th>\n",
       "    </tr>\n",
       "  </thead>\n",
       "  <tbody>\n",
       "    <tr>\n",
       "      <td>0</td>\n",
       "      <td>3044.993177</td>\n",
       "      <td>12</td>\n",
       "      <td>11.006688</td>\n",
       "      <td>0.0</td>\n",
       "      <td>2168.506639</td>\n",
       "      <td>0.0</td>\n",
       "      <td>0.000000</td>\n",
       "      <td>0.0</td>\n",
       "      <td>0.000000</td>\n",
       "      <td>0.0</td>\n",
       "      <td>0.0</td>\n",
       "      <td>0.0</td>\n",
       "      <td>0.00000</td>\n",
       "      <td>0.000000</td>\n",
       "      <td>0.000000</td>\n",
       "      <td>0.0</td>\n",
       "      <td>0.0</td>\n",
       "      <td>2168.506639</td>\n",
       "      <td>1</td>\n",
       "      <td>190</td>\n",
       "    </tr>\n",
       "    <tr>\n",
       "      <td>1</td>\n",
       "      <td>81.927748</td>\n",
       "      <td>12</td>\n",
       "      <td>0.985254</td>\n",
       "      <td>0.0</td>\n",
       "      <td>1779.354561</td>\n",
       "      <td>0.0</td>\n",
       "      <td>0.000000</td>\n",
       "      <td>0.0</td>\n",
       "      <td>0.000000</td>\n",
       "      <td>0.0</td>\n",
       "      <td>0.0</td>\n",
       "      <td>0.0</td>\n",
       "      <td>0.00000</td>\n",
       "      <td>0.000000</td>\n",
       "      <td>0.000000</td>\n",
       "      <td>0.0</td>\n",
       "      <td>0.0</td>\n",
       "      <td>1779.354561</td>\n",
       "      <td>0</td>\n",
       "      <td>17</td>\n",
       "    </tr>\n",
       "    <tr>\n",
       "      <td>2</td>\n",
       "      <td>1345.213562</td>\n",
       "      <td>12</td>\n",
       "      <td>2.830550</td>\n",
       "      <td>0.0</td>\n",
       "      <td>0.000000</td>\n",
       "      <td>0.0</td>\n",
       "      <td>163.266045</td>\n",
       "      <td>0.0</td>\n",
       "      <td>1590.748309</td>\n",
       "      <td>0.0</td>\n",
       "      <td>0.0</td>\n",
       "      <td>0.0</td>\n",
       "      <td>0.00000</td>\n",
       "      <td>0.000000</td>\n",
       "      <td>0.000000</td>\n",
       "      <td>0.0</td>\n",
       "      <td>0.0</td>\n",
       "      <td>1754.014354</td>\n",
       "      <td>0</td>\n",
       "      <td>788</td>\n",
       "    </tr>\n",
       "    <tr>\n",
       "      <td>3</td>\n",
       "      <td>3193.925166</td>\n",
       "      <td>12</td>\n",
       "      <td>0.000000</td>\n",
       "      <td>0.0</td>\n",
       "      <td>0.000000</td>\n",
       "      <td>0.0</td>\n",
       "      <td>0.000000</td>\n",
       "      <td>0.0</td>\n",
       "      <td>0.000000</td>\n",
       "      <td>0.0</td>\n",
       "      <td>0.0</td>\n",
       "      <td>0.0</td>\n",
       "      <td>0.00000</td>\n",
       "      <td>0.000000</td>\n",
       "      <td>0.000000</td>\n",
       "      <td>0.0</td>\n",
       "      <td>0.0</td>\n",
       "      <td>0.000000</td>\n",
       "      <td>0</td>\n",
       "      <td>220</td>\n",
       "    </tr>\n",
       "    <tr>\n",
       "      <td>4</td>\n",
       "      <td>284.286718</td>\n",
       "      <td>7</td>\n",
       "      <td>11.757291</td>\n",
       "      <td>0.0</td>\n",
       "      <td>189.991137</td>\n",
       "      <td>0.0</td>\n",
       "      <td>628.363089</td>\n",
       "      <td>0.0</td>\n",
       "      <td>0.000000</td>\n",
       "      <td>0.0</td>\n",
       "      <td>0.0</td>\n",
       "      <td>0.0</td>\n",
       "      <td>29.83154</td>\n",
       "      <td>58.269684</td>\n",
       "      <td>61.882977</td>\n",
       "      <td>0.0</td>\n",
       "      <td>0.0</td>\n",
       "      <td>968.338427</td>\n",
       "      <td>0</td>\n",
       "      <td>584</td>\n",
       "    </tr>\n",
       "  </tbody>\n",
       "</table>\n",
       "</div>"
      ],
      "text/plain": [
       "   AVG_BALANCE  TENURE  NUM_TRANS  ACCESSORIES   APPLIANCES  CULTURE  \\\n",
       "0  3044.993177      12  11.006688          0.0  2168.506639      0.0   \n",
       "1    81.927748      12   0.985254          0.0  1779.354561      0.0   \n",
       "2  1345.213562      12   2.830550          0.0     0.000000      0.0   \n",
       "3  3193.925166      12   0.000000          0.0     0.000000      0.0   \n",
       "4   284.286718       7  11.757291          0.0   189.991137      0.0   \n",
       "\n",
       "          GAS  BOOKS      APPAREL  FITNESS  EDUCATION  ENTERTAINMENT  \\\n",
       "0    0.000000    0.0     0.000000      0.0        0.0            0.0   \n",
       "1    0.000000    0.0     0.000000      0.0        0.0            0.0   \n",
       "2  163.266045    0.0  1590.748309      0.0        0.0            0.0   \n",
       "3    0.000000    0.0     0.000000      0.0        0.0            0.0   \n",
       "4  628.363089    0.0     0.000000      0.0        0.0            0.0   \n",
       "\n",
       "       FOOD     HEALTH  HOME_GARDEN  TELCOS  TRAVEL  PURCHASES_AMOUNT  \\\n",
       "0   0.00000   0.000000     0.000000     0.0     0.0       2168.506639   \n",
       "1   0.00000   0.000000     0.000000     0.0     0.0       1779.354561   \n",
       "2   0.00000   0.000000     0.000000     0.0     0.0       1754.014354   \n",
       "3   0.00000   0.000000     0.000000     0.0     0.0          0.000000   \n",
       "4  29.83154  58.269684    61.882977     0.0     0.0        968.338427   \n",
       "\n",
       "   Loyalty  cluster  \n",
       "0        1      190  \n",
       "1        0       17  \n",
       "2        0      788  \n",
       "3        0      220  \n",
       "4        0      584  "
      ]
     },
     "execution_count": 28,
     "metadata": {},
     "output_type": "execute_result"
    }
   ],
   "source": [
    "Kmeans_clusters=pd.concat([ccu_data, pd.DataFrame({'cluster':labels})], axis=1)\n",
    "Kmeans_clusters.dropna(inplace = True)\n",
    "Kmeans_clusters.head()"
   ]
  },
  {
   "cell_type": "code",
   "execution_count": 29,
   "metadata": {},
   "outputs": [
    {
     "data": {
      "image/png": "[encoded data removed]",
      "text/plain": [
       "<Figure size 432x432 with 1 Axes>"
      ]
     },
     "metadata": {
      "needs_background": "light"
     },
     "output_type": "display_data"
    }
   ],
   "source": [
    "scaler = StandardScaler() \n",
    "scaled_df = scaler.fit_transform(Kmeans_clusters)\n",
    "normalized_df = normalize(scaled_df)\n",
    "normalized_df = pd.DataFrame(normalized_df)\n",
    "\n",
    "plt.figure(figsize =(6, 6)) \n",
    "plt.title('Visualising the data') \n",
    "Dendrogram = shc.dendrogram((shc.linkage(normalized_df, method ='ward', metric= 'euclidean')))"
   ]
  },
  {
   "cell_type": "code",
   "execution_count": 30,
   "metadata": {},
   "outputs": [
    {
     "data": {
      "text/plain": [
       "[<matplotlib.lines.Line2D at 0x1da1059ce88>]"
      ]
     },
     "execution_count": 30,
     "metadata": {},
     "output_type": "execute_result"
    },
    {
     "data": {
      "image/png": "[encoded data removed]",
      "text/plain": [
       "<Figure size 432x288 with 1 Axes>"
      ]
     },
     "metadata": {
      "needs_background": "light"
     },
     "output_type": "display_data"
    }
   ],
   "source": [
    "sil = []\n",
    "cost = []\n",
    "for n_cluster in range(2, 10):\n",
    "    sil.append(silhouette_score(normalized_df, AgglomerativeClustering(n_clusters = n_cluster).fit_predict(normalized_df)))\n",
    "    #cost.append(AgglomerativeClustering(n_clusters = n_cluster).fit_predict(normalized_df).inertia_)\n",
    "    \n",
    "\n",
    "plt.plot(np.arange(2,10), sil, 'bx-')"
   ]
  },
  {
   "cell_type": "code",
   "execution_count": 31,
   "metadata": {},
   "outputs": [],
   "source": [
    "agg = AgglomerativeClustering(n_clusters = 8).fit_predict(normalized_df)"
   ]
  },
  {
   "cell_type": "code",
   "execution_count": 32,
   "metadata": {},
   "outputs": [
    {
     "data": {
      "text/html": [
       "<div>\n",
       "<style scoped>\n",
       "    .dataframe tbody tr th:only-of-type {\n",
       "        vertical-align: middle;\n",
       "    }\n",
       "\n",
       "    .dataframe tbody tr th {\n",
       "        vertical-align: top;\n",
       "    }\n",
       "\n",
       "    .dataframe thead th {\n",
       "        text-align: right;\n",
       "    }\n",
       "</style>\n",
       "<table border=\"1\" class=\"dataframe\">\n",
       "  <thead>\n",
       "    <tr style=\"text-align: right;\">\n",
       "      <th></th>\n",
       "      <th>AVG_BALANCE</th>\n",
       "      <th>TENURE</th>\n",
       "      <th>NUM_TRANS</th>\n",
       "      <th>ACCESSORIES</th>\n",
       "      <th>APPLIANCES</th>\n",
       "      <th>CULTURE</th>\n",
       "      <th>GAS</th>\n",
       "      <th>BOOKS</th>\n",
       "      <th>APPAREL</th>\n",
       "      <th>FITNESS</th>\n",
       "      <th>EDUCATION</th>\n",
       "      <th>ENTERTAINMENT</th>\n",
       "      <th>FOOD</th>\n",
       "      <th>HEALTH</th>\n",
       "      <th>HOME_GARDEN</th>\n",
       "      <th>TELCOS</th>\n",
       "      <th>TRAVEL</th>\n",
       "      <th>PURCHASES_AMOUNT</th>\n",
       "      <th>Loyalty</th>\n",
       "      <th>cluster</th>\n",
       "    </tr>\n",
       "  </thead>\n",
       "  <tbody>\n",
       "    <tr>\n",
       "      <td>0</td>\n",
       "      <td>3044.993177</td>\n",
       "      <td>12</td>\n",
       "      <td>11.006688</td>\n",
       "      <td>0.0</td>\n",
       "      <td>2168.506639</td>\n",
       "      <td>0.0</td>\n",
       "      <td>0.000000</td>\n",
       "      <td>0.0</td>\n",
       "      <td>0.000000</td>\n",
       "      <td>0.0</td>\n",
       "      <td>0.0</td>\n",
       "      <td>0.0</td>\n",
       "      <td>0.00000</td>\n",
       "      <td>0.000000</td>\n",
       "      <td>0.000000</td>\n",
       "      <td>0.0</td>\n",
       "      <td>0.0</td>\n",
       "      <td>2168.506639</td>\n",
       "      <td>1</td>\n",
       "      <td>5</td>\n",
       "    </tr>\n",
       "    <tr>\n",
       "      <td>1</td>\n",
       "      <td>81.927748</td>\n",
       "      <td>12</td>\n",
       "      <td>0.985254</td>\n",
       "      <td>0.0</td>\n",
       "      <td>1779.354561</td>\n",
       "      <td>0.0</td>\n",
       "      <td>0.000000</td>\n",
       "      <td>0.0</td>\n",
       "      <td>0.000000</td>\n",
       "      <td>0.0</td>\n",
       "      <td>0.0</td>\n",
       "      <td>0.0</td>\n",
       "      <td>0.00000</td>\n",
       "      <td>0.000000</td>\n",
       "      <td>0.000000</td>\n",
       "      <td>0.0</td>\n",
       "      <td>0.0</td>\n",
       "      <td>1779.354561</td>\n",
       "      <td>0</td>\n",
       "      <td>1</td>\n",
       "    </tr>\n",
       "    <tr>\n",
       "      <td>2</td>\n",
       "      <td>1345.213562</td>\n",
       "      <td>12</td>\n",
       "      <td>2.830550</td>\n",
       "      <td>0.0</td>\n",
       "      <td>0.000000</td>\n",
       "      <td>0.0</td>\n",
       "      <td>163.266045</td>\n",
       "      <td>0.0</td>\n",
       "      <td>1590.748309</td>\n",
       "      <td>0.0</td>\n",
       "      <td>0.0</td>\n",
       "      <td>0.0</td>\n",
       "      <td>0.00000</td>\n",
       "      <td>0.000000</td>\n",
       "      <td>0.000000</td>\n",
       "      <td>0.0</td>\n",
       "      <td>0.0</td>\n",
       "      <td>1754.014354</td>\n",
       "      <td>0</td>\n",
       "      <td>2</td>\n",
       "    </tr>\n",
       "    <tr>\n",
       "      <td>3</td>\n",
       "      <td>3193.925166</td>\n",
       "      <td>12</td>\n",
       "      <td>0.000000</td>\n",
       "      <td>0.0</td>\n",
       "      <td>0.000000</td>\n",
       "      <td>0.0</td>\n",
       "      <td>0.000000</td>\n",
       "      <td>0.0</td>\n",
       "      <td>0.000000</td>\n",
       "      <td>0.0</td>\n",
       "      <td>0.0</td>\n",
       "      <td>0.0</td>\n",
       "      <td>0.00000</td>\n",
       "      <td>0.000000</td>\n",
       "      <td>0.000000</td>\n",
       "      <td>0.0</td>\n",
       "      <td>0.0</td>\n",
       "      <td>0.000000</td>\n",
       "      <td>0</td>\n",
       "      <td>1</td>\n",
       "    </tr>\n",
       "    <tr>\n",
       "      <td>4</td>\n",
       "      <td>284.286718</td>\n",
       "      <td>7</td>\n",
       "      <td>11.757291</td>\n",
       "      <td>0.0</td>\n",
       "      <td>189.991137</td>\n",
       "      <td>0.0</td>\n",
       "      <td>628.363089</td>\n",
       "      <td>0.0</td>\n",
       "      <td>0.000000</td>\n",
       "      <td>0.0</td>\n",
       "      <td>0.0</td>\n",
       "      <td>0.0</td>\n",
       "      <td>29.83154</td>\n",
       "      <td>58.269684</td>\n",
       "      <td>61.882977</td>\n",
       "      <td>0.0</td>\n",
       "      <td>0.0</td>\n",
       "      <td>968.338427</td>\n",
       "      <td>0</td>\n",
       "      <td>3</td>\n",
       "    </tr>\n",
       "  </tbody>\n",
       "</table>\n",
       "</div>"
      ],
      "text/plain": [
       "   AVG_BALANCE  TENURE  NUM_TRANS  ACCESSORIES   APPLIANCES  CULTURE  \\\n",
       "0  3044.993177      12  11.006688          0.0  2168.506639      0.0   \n",
       "1    81.927748      12   0.985254          0.0  1779.354561      0.0   \n",
       "2  1345.213562      12   2.830550          0.0     0.000000      0.0   \n",
       "3  3193.925166      12   0.000000          0.0     0.000000      0.0   \n",
       "4   284.286718       7  11.757291          0.0   189.991137      0.0   \n",
       "\n",
       "          GAS  BOOKS      APPAREL  FITNESS  EDUCATION  ENTERTAINMENT  \\\n",
       "0    0.000000    0.0     0.000000      0.0        0.0            0.0   \n",
       "1    0.000000    0.0     0.000000      0.0        0.0            0.0   \n",
       "2  163.266045    0.0  1590.748309      0.0        0.0            0.0   \n",
       "3    0.000000    0.0     0.000000      0.0        0.0            0.0   \n",
       "4  628.363089    0.0     0.000000      0.0        0.0            0.0   \n",
       "\n",
       "       FOOD     HEALTH  HOME_GARDEN  TELCOS  TRAVEL  PURCHASES_AMOUNT  \\\n",
       "0   0.00000   0.000000     0.000000     0.0     0.0       2168.506639   \n",
       "1   0.00000   0.000000     0.000000     0.0     0.0       1779.354561   \n",
       "2   0.00000   0.000000     0.000000     0.0     0.0       1754.014354   \n",
       "3   0.00000   0.000000     0.000000     0.0     0.0          0.000000   \n",
       "4  29.83154  58.269684    61.882977     0.0     0.0        968.338427   \n",
       "\n",
       "   Loyalty  cluster  \n",
       "0        1        5  \n",
       "1        0        1  \n",
       "2        0        2  \n",
       "3        0        1  \n",
       "4        0        3  "
      ]
     },
     "execution_count": 32,
     "metadata": {},
     "output_type": "execute_result"
    }
   ],
   "source": [
    "clusters=pd.concat([ccu_data, pd.DataFrame({'cluster':agg})], axis=1)\n",
    "clusters.dropna(inplace = True)\n",
    "clusters.head()"
   ]
  },
  {
   "cell_type": "code",
   "execution_count": 34,
   "metadata": {},
   "outputs": [],
   "source": [
    "clusters.to_csv(\"Kmean_Hierach/data.csv\", index=False)"
   ]
  },
  {
   "cell_type": "code",
   "execution_count": 36,
   "metadata": {
    "scrolled": true
   },
   "outputs": [
    {
     "data": {
      "text/html": [
       "<div>\n",
       "<style scoped>\n",
       "    .dataframe tbody tr th:only-of-type {\n",
       "        vertical-align: middle;\n",
       "    }\n",
       "\n",
       "    .dataframe tbody tr th {\n",
       "        vertical-align: top;\n",
       "    }\n",
       "\n",
       "    .dataframe thead th {\n",
       "        text-align: right;\n",
       "    }\n",
       "</style>\n",
       "<table border=\"1\" class=\"dataframe\">\n",
       "  <thead>\n",
       "    <tr style=\"text-align: right;\">\n",
       "      <th></th>\n",
       "      <th>TENURE</th>\n",
       "      <th>Loyalty</th>\n",
       "      <th>AVG_BALANCE_RANGE</th>\n",
       "      <th>NUM_TRANS_RANGE</th>\n",
       "      <th>ACCESSORIES_RANGE</th>\n",
       "      <th>APPLIANCES_RANGE</th>\n",
       "      <th>CULTURE_RANGE</th>\n",
       "      <th>GAS_RANGE</th>\n",
       "      <th>BOOKS_RANGE</th>\n",
       "      <th>APPAREL_RANGE</th>\n",
       "      <th>FITNESS_RANGE</th>\n",
       "      <th>EDUCATION_RANGE</th>\n",
       "      <th>ENTERTAINMENT_RANGE</th>\n",
       "      <th>FOOD_RANGE</th>\n",
       "      <th>HEALTH_RANGE</th>\n",
       "      <th>HOME_GARDEN_RANGE</th>\n",
       "      <th>TELCOS_RANGE</th>\n",
       "      <th>TRAVEL_RANGE</th>\n",
       "      <th>PURCHASES_AMOUNT_RANGE</th>\n",
       "    </tr>\n",
       "    <tr>\n",
       "      <th>cluster</th>\n",
       "      <th></th>\n",
       "      <th></th>\n",
       "      <th></th>\n",
       "      <th></th>\n",
       "      <th></th>\n",
       "      <th></th>\n",
       "      <th></th>\n",
       "      <th></th>\n",
       "      <th></th>\n",
       "      <th></th>\n",
       "      <th></th>\n",
       "      <th></th>\n",
       "      <th></th>\n",
       "      <th></th>\n",
       "      <th></th>\n",
       "      <th></th>\n",
       "      <th></th>\n",
       "      <th></th>\n",
       "      <th></th>\n",
       "    </tr>\n",
       "  </thead>\n",
       "  <tbody>\n",
       "    <tr>\n",
       "      <td>0</td>\n",
       "      <td>11.867583</td>\n",
       "      <td>0.000000</td>\n",
       "      <td>1.657508</td>\n",
       "      <td>0.013165</td>\n",
       "      <td>0.000000</td>\n",
       "      <td>0.000000</td>\n",
       "      <td>0.000000</td>\n",
       "      <td>0.000000</td>\n",
       "      <td>0.000000</td>\n",
       "      <td>0.000000</td>\n",
       "      <td>0.000000</td>\n",
       "      <td>0.00000</td>\n",
       "      <td>0.000000</td>\n",
       "      <td>0.000000</td>\n",
       "      <td>0.000000</td>\n",
       "      <td>0.000000</td>\n",
       "      <td>0.000000</td>\n",
       "      <td>0.000000</td>\n",
       "      <td>0.000000</td>\n",
       "    </tr>\n",
       "    <tr>\n",
       "      <td>1</td>\n",
       "      <td>11.873399</td>\n",
       "      <td>0.414197</td>\n",
       "      <td>1.574460</td>\n",
       "      <td>1.004025</td>\n",
       "      <td>0.392243</td>\n",
       "      <td>0.433955</td>\n",
       "      <td>0.000000</td>\n",
       "      <td>0.000000</td>\n",
       "      <td>0.000000</td>\n",
       "      <td>0.598244</td>\n",
       "      <td>0.000000</td>\n",
       "      <td>0.00000</td>\n",
       "      <td>0.000000</td>\n",
       "      <td>0.293085</td>\n",
       "      <td>0.000000</td>\n",
       "      <td>0.000000</td>\n",
       "      <td>0.000000</td>\n",
       "      <td>0.000000</td>\n",
       "      <td>6.829491</td>\n",
       "    </tr>\n",
       "    <tr>\n",
       "      <td>2</td>\n",
       "      <td>7.711934</td>\n",
       "      <td>0.000000</td>\n",
       "      <td>1.352734</td>\n",
       "      <td>0.471487</td>\n",
       "      <td>0.161082</td>\n",
       "      <td>0.180482</td>\n",
       "      <td>0.000000</td>\n",
       "      <td>0.002352</td>\n",
       "      <td>0.000000</td>\n",
       "      <td>0.245738</td>\n",
       "      <td>0.000000</td>\n",
       "      <td>0.00000</td>\n",
       "      <td>0.021164</td>\n",
       "      <td>0.084068</td>\n",
       "      <td>0.004703</td>\n",
       "      <td>0.079953</td>\n",
       "      <td>0.052910</td>\n",
       "      <td>0.051146</td>\n",
       "      <td>2.944738</td>\n",
       "    </tr>\n",
       "    <tr>\n",
       "      <td>3</td>\n",
       "      <td>11.654075</td>\n",
       "      <td>0.531826</td>\n",
       "      <td>1.385485</td>\n",
       "      <td>1.112433</td>\n",
       "      <td>0.614515</td>\n",
       "      <td>0.557406</td>\n",
       "      <td>0.108269</td>\n",
       "      <td>0.287626</td>\n",
       "      <td>0.464010</td>\n",
       "      <td>0.773647</td>\n",
       "      <td>0.087448</td>\n",
       "      <td>0.05116</td>\n",
       "      <td>0.621356</td>\n",
       "      <td>0.474123</td>\n",
       "      <td>0.335812</td>\n",
       "      <td>0.408983</td>\n",
       "      <td>0.335812</td>\n",
       "      <td>0.442296</td>\n",
       "      <td>6.906901</td>\n",
       "    </tr>\n",
       "    <tr>\n",
       "      <td>4</td>\n",
       "      <td>11.880184</td>\n",
       "      <td>0.366359</td>\n",
       "      <td>1.407834</td>\n",
       "      <td>1.025346</td>\n",
       "      <td>0.314900</td>\n",
       "      <td>0.409370</td>\n",
       "      <td>0.000000</td>\n",
       "      <td>0.000000</td>\n",
       "      <td>0.000000</td>\n",
       "      <td>0.479263</td>\n",
       "      <td>0.000000</td>\n",
       "      <td>0.00000</td>\n",
       "      <td>0.000000</td>\n",
       "      <td>0.220430</td>\n",
       "      <td>0.199693</td>\n",
       "      <td>0.205069</td>\n",
       "      <td>1.003072</td>\n",
       "      <td>0.062980</td>\n",
       "      <td>6.875576</td>\n",
       "    </tr>\n",
       "    <tr>\n",
       "      <td>5</td>\n",
       "      <td>11.518746</td>\n",
       "      <td>0.415133</td>\n",
       "      <td>1.411725</td>\n",
       "      <td>1.019768</td>\n",
       "      <td>0.381050</td>\n",
       "      <td>0.457396</td>\n",
       "      <td>0.000000</td>\n",
       "      <td>1.006135</td>\n",
       "      <td>0.000000</td>\n",
       "      <td>0.567144</td>\n",
       "      <td>0.000000</td>\n",
       "      <td>0.00000</td>\n",
       "      <td>0.002045</td>\n",
       "      <td>0.396728</td>\n",
       "      <td>0.188821</td>\n",
       "      <td>0.254942</td>\n",
       "      <td>0.239264</td>\n",
       "      <td>0.239264</td>\n",
       "      <td>6.903204</td>\n",
       "    </tr>\n",
       "    <tr>\n",
       "      <td>6</td>\n",
       "      <td>11.098436</td>\n",
       "      <td>0.291628</td>\n",
       "      <td>1.389144</td>\n",
       "      <td>1.026679</td>\n",
       "      <td>0.507820</td>\n",
       "      <td>0.322907</td>\n",
       "      <td>0.000000</td>\n",
       "      <td>0.012879</td>\n",
       "      <td>0.000000</td>\n",
       "      <td>0.643974</td>\n",
       "      <td>0.000000</td>\n",
       "      <td>0.00000</td>\n",
       "      <td>0.002760</td>\n",
       "      <td>0.276909</td>\n",
       "      <td>1.006440</td>\n",
       "      <td>0.257590</td>\n",
       "      <td>0.005520</td>\n",
       "      <td>0.047838</td>\n",
       "      <td>6.864765</td>\n",
       "    </tr>\n",
       "    <tr>\n",
       "      <td>7</td>\n",
       "      <td>11.804139</td>\n",
       "      <td>0.400385</td>\n",
       "      <td>1.612127</td>\n",
       "      <td>1.062560</td>\n",
       "      <td>0.483638</td>\n",
       "      <td>0.381136</td>\n",
       "      <td>0.000000</td>\n",
       "      <td>0.030799</td>\n",
       "      <td>0.016843</td>\n",
       "      <td>0.662656</td>\n",
       "      <td>0.000000</td>\n",
       "      <td>0.00000</td>\n",
       "      <td>0.028874</td>\n",
       "      <td>0.318576</td>\n",
       "      <td>0.101540</td>\n",
       "      <td>0.556785</td>\n",
       "      <td>0.141963</td>\n",
       "      <td>0.568335</td>\n",
       "      <td>6.898941</td>\n",
       "    </tr>\n",
       "  </tbody>\n",
       "</table>\n",
       "</div>"
      ],
      "text/plain": [
       "            TENURE   Loyalty  AVG_BALANCE_RANGE  NUM_TRANS_RANGE  \\\n",
       "cluster                                                            \n",
       "0        11.867583  0.000000           1.657508         0.013165   \n",
       "1        11.873399  0.414197           1.574460         1.004025   \n",
       "2         7.711934  0.000000           1.352734         0.471487   \n",
       "3        11.654075  0.531826           1.385485         1.112433   \n",
       "4        11.880184  0.366359           1.407834         1.025346   \n",
       "5        11.518746  0.415133           1.411725         1.019768   \n",
       "6        11.098436  0.291628           1.389144         1.026679   \n",
       "7        11.804139  0.400385           1.612127         1.062560   \n",
       "\n",
       "         ACCESSORIES_RANGE  APPLIANCES_RANGE  CULTURE_RANGE  GAS_RANGE  \\\n",
       "cluster                                                                  \n",
       "0                 0.000000          0.000000       0.000000   0.000000   \n",
       "1                 0.392243          0.433955       0.000000   0.000000   \n",
       "2                 0.161082          0.180482       0.000000   0.002352   \n",
       "3                 0.614515          0.557406       0.108269   0.287626   \n",
       "4                 0.314900          0.409370       0.000000   0.000000   \n",
       "5                 0.381050          0.457396       0.000000   1.006135   \n",
       "6                 0.507820          0.322907       0.000000   0.012879   \n",
       "7                 0.483638          0.381136       0.000000   0.030799   \n",
       "\n",
       "         BOOKS_RANGE  APPAREL_RANGE  FITNESS_RANGE  EDUCATION_RANGE  \\\n",
       "cluster                                                               \n",
       "0           0.000000       0.000000       0.000000          0.00000   \n",
       "1           0.000000       0.598244       0.000000          0.00000   \n",
       "2           0.000000       0.245738       0.000000          0.00000   \n",
       "3           0.464010       0.773647       0.087448          0.05116   \n",
       "4           0.000000       0.479263       0.000000          0.00000   \n",
       "5           0.000000       0.567144       0.000000          0.00000   \n",
       "6           0.000000       0.643974       0.000000          0.00000   \n",
       "7           0.016843       0.662656       0.000000          0.00000   \n",
       "\n",
       "         ENTERTAINMENT_RANGE  FOOD_RANGE  HEALTH_RANGE  HOME_GARDEN_RANGE  \\\n",
       "cluster                                                                     \n",
       "0                   0.000000    0.000000      0.000000           0.000000   \n",
       "1                   0.000000    0.293085      0.000000           0.000000   \n",
       "2                   0.021164    0.084068      0.004703           0.079953   \n",
       "3                   0.621356    0.474123      0.335812           0.408983   \n",
       "4                   0.000000    0.220430      0.199693           0.205069   \n",
       "5                   0.002045    0.396728      0.188821           0.254942   \n",
       "6                   0.002760    0.276909      1.006440           0.257590   \n",
       "7                   0.028874    0.318576      0.101540           0.556785   \n",
       "\n",
       "         TELCOS_RANGE  TRAVEL_RANGE  PURCHASES_AMOUNT_RANGE  \n",
       "cluster                                                      \n",
       "0            0.000000      0.000000                0.000000  \n",
       "1            0.000000      0.000000                6.829491  \n",
       "2            0.052910      0.051146                2.944738  \n",
       "3            0.335812      0.442296                6.906901  \n",
       "4            1.003072      0.062980                6.875576  \n",
       "5            0.239264      0.239264                6.903204  \n",
       "6            0.005520      0.047838                6.864765  \n",
       "7            0.141963      0.568335                6.898941  "
      ]
     },
     "execution_count": 36,
     "metadata": {},
     "output_type": "execute_result"
    }
   ],
   "source": [
    "clusters.groupby('cluster').mean()"
   ]
  },
  {
   "cell_type": "code",
   "execution_count": null,
   "metadata": {},
   "outputs": [],
   "source": []
  }
 ],
 "metadata": {
  "kernelspec": {
   "display_name": "Python 3",
   "language": "python",
   "name": "python3"
  },
  "language_info": {
   "codemirror_mode": {
    "name": "ipython",
    "version": 3
   },
   "file_extension": ".py",
   "mimetype": "text/x-python",
   "name": "python",
   "nbconvert_exporter": "python",
   "pygments_lexer": "ipython3",
   "version": "3.7.4"
  }
 },
 "nbformat": 4,
 "nbformat_minor": 2
}
